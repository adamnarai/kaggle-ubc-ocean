{
 "cells": [
  {
   "cell_type": "code",
   "execution_count": null,
   "metadata": {},
   "outputs": [],
   "source": [
    "import os\n",
    "import pandas as pd\n",
    "import numpy as np\n",
    "from PIL import Image\n",
    "import matplotlib.pyplot as plt\n",
    "import pyvips\n",
    "import shutil\n",
    "\n",
    "# Params\n",
    "sample_n = 32\n",
    "\n",
    "# Paths\n",
    "root = '/media/latlab/MR/projects/kaggle-ubc-ocean'\n",
    "data_dir = os.path.join(root, 'data')\n",
    "results_dir = os.path.join(root, 'results')\n",
    "train_csv = 'train.csv'\n",
    "train_image_dir = os.path.join(data_dir, 'train_images')\n",
    "tile_set_name = 'train_tiles_1024_p50_drop60_v6'\n",
    "tiles_dir = os.path.join(results_dir, tile_set_name)\n",
    "table_name = f'{tile_set_name}_only_tumor_v2_sample{sample_n}'\n",
    "\n",
    "# Load data\n",
    "df = pd.read_csv(os.path.join(results_dir, table_name + '.csv'))\n",
    "df"
   ]
  },
  {
   "cell_type": "code",
   "execution_count": null,
   "metadata": {},
   "outputs": [],
   "source": [
    "# Create sample dir\n",
    "sample_dir = os.path.join(results_dir, table_name)\n",
    "os.makedirs(sample_dir, exist_ok=True)\n",
    "\n",
    "# Copy sample images\n",
    "for row in df.itertuples():\n",
    "    os.makedirs(os.path.join(sample_dir, str(row.orig_image_id)), exist_ok=True)\n",
    "    in_path = os.path.join(tiles_dir, str(row.orig_image_id), str(row.image_id) + '.png')\n",
    "    out_path = os.path.join(sample_dir, str(row.orig_image_id), str(row.image_id) + '.png')\n",
    "    shutil.copy2(in_path, out_path)"
   ]
  }
 ],
 "metadata": {
  "kernelspec": {
   "display_name": "ubc-ocean",
   "language": "python",
   "name": "python3"
  },
  "language_info": {
   "codemirror_mode": {
    "name": "ipython",
    "version": 3
   },
   "file_extension": ".py",
   "mimetype": "text/x-python",
   "name": "python",
   "nbconvert_exporter": "python",
   "pygments_lexer": "ipython3",
   "version": "3.11.6"
  }
 },
 "nbformat": 4,
 "nbformat_minor": 2
}
