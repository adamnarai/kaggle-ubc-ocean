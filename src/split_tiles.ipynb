{
 "cells": [
  {
   "cell_type": "code",
   "execution_count": 1,
   "id": "c7902475",
   "metadata": {
    "execution": {
     "iopub.execute_input": "2023-10-23T15:37:06.548277Z",
     "iopub.status.busy": "2023-10-23T15:37:06.547793Z",
     "iopub.status.idle": "2023-10-23T15:37:07.030230Z",
     "shell.execute_reply": "2023-10-23T15:37:07.028802Z"
    },
    "papermill": {
     "duration": 0.543083,
     "end_time": "2023-10-23T15:37:07.033473",
     "exception": false,
     "start_time": "2023-10-23T15:37:06.490390",
     "status": "completed"
    },
    "tags": []
   },
   "outputs": [],
   "source": [
    "import os\n",
    "import pyvips\n",
    "import numpy as np\n",
    "from PIL import Image\n",
    "import matplotlib.pyplot as plt\n",
    "\n",
    "os.environ['VIPS_DISC_THRESHOLD'] = '10gb'\n",
    "\n",
    "# Params\n",
    "drop_thr = 0.20\n",
    "size = 2048\n",
    "scale = 0.25\n",
    "\n",
    "# Paths\n",
    "root = '/media/latlab/MR/projects/kaggle-ubc-ocean'\n",
    "data_dir = os.path.join(root, 'data')\n",
    "results_dir = os.path.join(root, 'results')\n",
    "train_csv = 'train.csv'\n",
    "train_image_dir = os.path.join(data_dir, 'train_images')\n",
    "train_thumbnail_dir = os.path.join(data_dir, 'train_thumbnails')\n",
    "out_dir = os.path.join(results_dir, f'train_tiles_{size}_p{scale*100}_drop{drop_thr*100}')\n",
    "\n",
    "def extract_image_tiles(p_img, folder, size: int, scale: float, drop_thr: float) -> list:\n",
    "    name, _ = os.path.splitext(os.path.basename(p_img))\n",
    "    im = pyvips.Image.new_from_file(p_img)\n",
    "    w = h = size\n",
    "    # https://stackoverflow.com/a/47581978/4521646\n",
    "    \n",
    "    # TMA tiles (center crop)\n",
    "    if im.height < 5000 and im.width < 5000: # TODO exact detection of TMA\n",
    "        # w = h = size = size*2\n",
    "        # TMA center crop\n",
    "        tile_num = min(im.height, im.width)//size\n",
    "        orig_x = (im.width - tile_num*size)//2\n",
    "        orig_y = (im.height - tile_num*size)//2\n",
    "        idxs = [(y, y + h, x, x + w) for y in range(orig_y, im.height, h) for x in range(orig_x, im.width, w)]\n",
    "    else:\n",
    "        # WSI tiles\n",
    "        idxs = [(y, y + h, x, x + w) for y in range(0, im.height, h) for x in range(0, im.width, w)]\n",
    "\n",
    "    files = []\n",
    "    # Tiling\n",
    "    for k, (y, y_, x, x_) in enumerate(idxs):\n",
    "        # https://libvips.github.io/pyvips/vimage.html#pyvips.Image.crop\n",
    "        tile = im.crop(x, y, min(w, im.width - x), min(h, im.height - y)).numpy()[..., :3]\n",
    "        mask_bg = np.sum(tile, axis=2) == 0\n",
    "        if np.sum(mask_bg) >= (np.prod(mask_bg.shape) * drop_thr):\n",
    "            # print(f\"skip almost empty tile: {k:06}_{int(x_ / w)}-{int(y_ / h)}\")\n",
    "            continue\n",
    "        if tile.shape[:2] != (h, w):\n",
    "            if any((1-np.array(tile.shape[:2])/size) >= drop_thr):\n",
    "                continue\n",
    "            tile_ = tile\n",
    "            tile_size = (h, w) if tile.ndim == 2 else (h, w, tile.shape[2])\n",
    "            tile = np.zeros(tile_size, dtype=tile.dtype)\n",
    "            tile[:tile_.shape[0], :tile_.shape[1], ...] = tile_\n",
    "        p_img = os.path.join(folder, f\"{k:06}_{int(x_ / w)}-{int(y_ / h)}.png\")\n",
    "        # print(tile.shape, tile.dtype, tile.min(), tile.max())\n",
    "        new_size = int(size * scale), int(size * scale)\n",
    "        Image.fromarray(tile).resize(new_size, Image.LANCZOS).save(p_img)\n",
    "        files.append(p_img)\n",
    "    return files, idxs"
   ]
  },
  {
   "cell_type": "markdown",
   "id": "b8146350",
   "metadata": {
    "papermill": {
     "duration": 0.054394,
     "end_time": "2023-10-23T15:38:19.206093",
     "exception": false,
     "start_time": "2023-10-23T15:38:19.151699",
     "status": "completed"
    },
    "tags": []
   },
   "source": [
    "## Show the image tiles with segmentations for one test image"
   ]
  },
  {
   "cell_type": "code",
   "execution_count": 2,
   "id": "bad92eb2",
   "metadata": {
    "execution": {
     "iopub.execute_input": "2023-10-23T15:38:19.324072Z",
     "iopub.status.busy": "2023-10-23T15:38:19.322525Z",
     "iopub.status.idle": "2023-10-23T15:39:35.585455Z",
     "shell.execute_reply": "2023-10-23T15:39:35.583875Z"
    },
    "papermill": {
     "duration": 76.409414,
     "end_time": "2023-10-23T15:39:35.670523",
     "exception": false,
     "start_time": "2023-10-23T15:38:19.261109",
     "status": "completed"
    },
    "tags": []
   },
   "outputs": [
    {
     "name": "stdout",
     "output_type": "stream",
     "text": [
      "mkdir: cannot create directory ‘/tmp/ubc’: File exists\n"
     ]
    }
   ],
   "source": [
    "test_img_id = '4'\n",
    "# test_img_id = '48734'\n",
    "!mkdir /tmp/ubc\n",
    "tiles_img, _ = extract_image_tiles(os.path.join(train_image_dir, f'{test_img_id}.png'), '/tmp/ubc', size=size, scale=scale, drop_thr=drop_thr)\n",
    "print(len(tiles_img))\n",
    "\n",
    "names = [os.path.splitext(os.path.basename(p_img))[0] for p_img in tiles_img]\n",
    "pos = [name.split(\"_\")[-1] for name in names]\n",
    "idx_x, idx_y = zip(*[list(map(int, p.split(\"-\"))) for p in pos])\n",
    "nb_rows = len(set(idx_y))\n",
    "nb_cols = len(set(idx_x))\n",
    "print(f\"{nb_rows=}\\n{nb_cols=}\")\n",
    "\n",
    "fig, axes = plt.subplots(nrows=nb_rows, ncols=nb_cols,\n",
    "    figsize=(nb_cols * 0.5, nb_rows * 0.5)\n",
    ")\n",
    "axes = np.array(axes).reshape(nb_rows, nb_cols)\n",
    "\n",
    "for p_img, x, y in zip(tiles_img, idx_x, idx_y):\n",
    "    img = plt.imread(p_img)\n",
    "    ax = axes[y - 1, x - 1]\n",
    "    ax.imshow(img)\n",
    "print(f\"image size: {img.shape}\")\n",
    "\n",
    "for i in range(nb_rows):\n",
    "    for j in range(nb_cols):\n",
    "        axes[i, j].set_xticklabels([])\n",
    "        axes[i, j].set_yticklabels([])\n",
    "\n",
    "plt.subplots_adjust(wspace=0, hspace=0)\n",
    "# # fig.tight_layout()"
   ]
  },
  {
   "cell_type": "markdown",
   "id": "1ea10c65",
   "metadata": {
    "papermill": {
     "duration": 0.072414,
     "end_time": "2023-10-23T15:39:35.817648",
     "exception": false,
     "start_time": "2023-10-23T15:39:35.745234",
     "status": "completed"
    },
    "tags": []
   },
   "source": [
    "## Export all image tiles¶"
   ]
  },
  {
   "cell_type": "code",
   "execution_count": null,
   "id": "42ea7d8b",
   "metadata": {
    "execution": {
     "iopub.execute_input": "2023-10-23T15:39:36.135245Z",
     "iopub.status.busy": "2023-10-23T15:39:36.134763Z",
     "iopub.status.idle": "2023-10-23T15:39:36.142467Z",
     "shell.execute_reply": "2023-10-23T15:39:36.141490Z"
    },
    "papermill": {
     "duration": 0.087307,
     "end_time": "2023-10-23T15:39:36.145206",
     "exception": false,
     "start_time": "2023-10-23T15:39:36.057899",
     "status": "completed"
    },
    "tags": []
   },
   "outputs": [],
   "source": [
    "def extract_prune_tiles(idx_path_img, folder, size: int, scale: float, drop_thr: float) -> None:\n",
    "    idx, p_img = idx_path_img\n",
    "    print(f\"processing #{idx}: {p_img}\")\n",
    "    name, _ = os.path.splitext(os.path.basename(p_img))\n",
    "    folder = os.path.join(folder, name)\n",
    "    os.makedirs(folder, exist_ok=True)\n",
    "    tiles, _ = extract_image_tiles(p_img, folder, size, scale, drop_thr)"
   ]
  },
  {
   "cell_type": "code",
   "execution_count": null,
   "id": "0d291f97",
   "metadata": {
    "_kg_hide-output": true,
    "execution": {
     "iopub.execute_input": "2023-10-23T15:39:36.297857Z",
     "iopub.status.busy": "2023-10-23T15:39:36.296838Z",
     "iopub.status.idle": "2023-10-23T18:26:42.400159Z",
     "shell.execute_reply": "2023-10-23T18:26:42.398163Z"
    },
    "papermill": {
     "duration": 10026.188092,
     "end_time": "2023-10-23T18:26:42.408250",
     "exception": false,
     "start_time": "2023-10-23T15:39:36.220158",
     "status": "completed"
    },
    "tags": []
   },
   "outputs": [],
   "source": [
    "import glob\n",
    "from tqdm.auto import tqdm\n",
    "from joblib import Parallel, delayed\n",
    "\n",
    "os.makedirs(out_dir, exist_ok=True)\n",
    "\n",
    "ls = sorted(glob.glob(os.path.join(train_image_dir, '*.png')))\n",
    "print(f\"found images: {len(ls)}\")\n",
    "img_name = lambda p_img: os.path.splitext(os.path.basename(p_img))[0]\n",
    "    \n",
    "_= Parallel(n_jobs=10)(\n",
    "    delayed(extract_prune_tiles)\n",
    "    (id_pimg, out_dir, size=size, drop_thr=drop_thr, scale=scale)\n",
    "    for id_pimg in tqdm(enumerate(ls), total=len(ls))\n",
    ")"
   ]
  },
  {
   "cell_type": "markdown",
   "id": "07e95479",
   "metadata": {
    "papermill": {
     "duration": 0.073201,
     "end_time": "2023-10-23T18:26:42.557817",
     "exception": false,
     "start_time": "2023-10-23T18:26:42.484616",
     "status": "completed"
    },
    "tags": []
   },
   "source": [
    "## Show some samples"
   ]
  },
  {
   "cell_type": "code",
   "execution_count": null,
   "id": "da5746e1",
   "metadata": {
    "execution": {
     "iopub.execute_input": "2023-10-23T18:26:42.713207Z",
     "iopub.status.busy": "2023-10-23T18:26:42.712091Z",
     "iopub.status.idle": "2023-10-23T18:26:49.612677Z",
     "shell.execute_reply": "2023-10-23T18:26:49.610866Z"
    },
    "papermill": {
     "duration": 6.995879,
     "end_time": "2023-10-23T18:26:49.628178",
     "exception": false,
     "start_time": "2023-10-23T18:26:42.632299",
     "status": "completed"
    },
    "tags": []
   },
   "outputs": [],
   "source": [
    "ls = [p for p in glob.glob(out_dir + '/*') if os.path.isdir(p)]\n",
    "print(f\"found folders: {len(ls)}\")\n",
    "ls = glob.glob(out_dir + '/*/*.png')\n",
    "print(f\"found images: {len(ls)}\")\n",
    "\n",
    "fig, axes = plt.subplots(nrows=5, ncols=5, figsize=(16, 16))\n",
    "for i, p_img in enumerate(ls[:25]):\n",
    "    img = plt.imread(p_img)\n",
    "    ax = axes[i // 5, i % 5]\n",
    "    ax.imshow(img)"
   ]
  }
 ],
 "metadata": {
  "kernelspec": {
   "display_name": "Python 3",
   "language": "python",
   "name": "python3"
  },
  "language_info": {
   "codemirror_mode": {
    "name": "ipython",
    "version": 3
   },
   "file_extension": ".py",
   "mimetype": "text/x-python",
   "name": "python",
   "nbconvert_exporter": "python",
   "pygments_lexer": "ipython3",
   "version": "3.11.6"
  },
  "papermill": {
   "default_parameters": {},
   "duration": 10281.58852,
   "end_time": "2023-10-23T18:26:52.548654",
   "environment_variables": {},
   "exception": null,
   "input_path": "__notebook__.ipynb",
   "output_path": "__notebook__.ipynb",
   "parameters": {},
   "start_time": "2023-10-23T15:35:30.960134",
   "version": "2.4.0"
  },
  "widgets": {
   "application/vnd.jupyter.widget-state+json": {
    "state": {
     "041d73c1c0a94cc39fd993f376fdc344": {
      "model_module": "@jupyter-widgets/controls",
      "model_module_version": "1.5.0",
      "model_name": "HTMLModel",
      "state": {
       "_dom_classes": [],
       "_model_module": "@jupyter-widgets/controls",
       "_model_module_version": "1.5.0",
       "_model_name": "HTMLModel",
       "_view_count": null,
       "_view_module": "@jupyter-widgets/controls",
       "_view_module_version": "1.5.0",
       "_view_name": "HTMLView",
       "description": "",
       "description_tooltip": null,
       "layout": "IPY_MODEL_e730be6c6f054fa7b9a186ca27dd797b",
       "placeholder": "​",
       "style": "IPY_MODEL_427406dbeea1459a809579022730d872",
       "value": ""
      }
     },
     "34f905c3423e493c8a2e0f622e6e761b": {
      "model_module": "@jupyter-widgets/base",
      "model_module_version": "1.2.0",
      "model_name": "LayoutModel",
      "state": {
       "_model_module": "@jupyter-widgets/base",
       "_model_module_version": "1.2.0",
       "_model_name": "LayoutModel",
       "_view_count": null,
       "_view_module": "@jupyter-widgets/base",
       "_view_module_version": "1.2.0",
       "_view_name": "LayoutView",
       "align_content": null,
       "align_items": null,
       "align_self": null,
       "border": null,
       "bottom": null,
       "display": null,
       "flex": null,
       "flex_flow": null,
       "grid_area": null,
       "grid_auto_columns": null,
       "grid_auto_flow": null,
       "grid_auto_rows": null,
       "grid_column": null,
       "grid_gap": null,
       "grid_row": null,
       "grid_template_areas": null,
       "grid_template_columns": null,
       "grid_template_rows": null,
       "height": null,
       "justify_content": null,
       "justify_items": null,
       "left": null,
       "margin": null,
       "max_height": null,
       "max_width": null,
       "min_height": null,
       "min_width": null,
       "object_fit": null,
       "object_position": null,
       "order": null,
       "overflow": null,
       "overflow_x": null,
       "overflow_y": null,
       "padding": null,
       "right": null,
       "top": null,
       "visibility": null,
       "width": null
      }
     },
     "427406dbeea1459a809579022730d872": {
      "model_module": "@jupyter-widgets/controls",
      "model_module_version": "1.5.0",
      "model_name": "DescriptionStyleModel",
      "state": {
       "_model_module": "@jupyter-widgets/controls",
       "_model_module_version": "1.5.0",
       "_model_name": "DescriptionStyleModel",
       "_view_count": null,
       "_view_module": "@jupyter-widgets/base",
       "_view_module_version": "1.2.0",
       "_view_name": "StyleView",
       "description_width": ""
      }
     },
     "92c91844334b4948a3569916a11ed300": {
      "model_module": "@jupyter-widgets/controls",
      "model_module_version": "1.5.0",
      "model_name": "ProgressStyleModel",
      "state": {
       "_model_module": "@jupyter-widgets/controls",
       "_model_module_version": "1.5.0",
       "_model_name": "ProgressStyleModel",
       "_view_count": null,
       "_view_module": "@jupyter-widgets/base",
       "_view_module_version": "1.2.0",
       "_view_name": "StyleView",
       "bar_color": null,
       "description_width": ""
      }
     },
     "bfa6b6431ecd408593582adf89106f32": {
      "model_module": "@jupyter-widgets/controls",
      "model_module_version": "1.5.0",
      "model_name": "HTMLModel",
      "state": {
       "_dom_classes": [],
       "_model_module": "@jupyter-widgets/controls",
       "_model_module_version": "1.5.0",
       "_model_name": "HTMLModel",
       "_view_count": null,
       "_view_module": "@jupyter-widgets/controls",
       "_view_module_version": "1.5.0",
       "_view_name": "HTMLView",
       "description": "",
       "description_tooltip": null,
       "layout": "IPY_MODEL_34f905c3423e493c8a2e0f622e6e761b",
       "placeholder": "​",
       "style": "IPY_MODEL_c45afed136a948348754234c22264a9c",
       "value": " 138/? [2:42:12&lt;00:00, 76.05s/it]"
      }
     },
     "c45afed136a948348754234c22264a9c": {
      "model_module": "@jupyter-widgets/controls",
      "model_module_version": "1.5.0",
      "model_name": "DescriptionStyleModel",
      "state": {
       "_model_module": "@jupyter-widgets/controls",
       "_model_module_version": "1.5.0",
       "_model_name": "DescriptionStyleModel",
       "_view_count": null,
       "_view_module": "@jupyter-widgets/base",
       "_view_module_version": "1.2.0",
       "_view_name": "StyleView",
       "description_width": ""
      }
     },
     "ccf5ba4830ae43e7af99c1c0425940e9": {
      "model_module": "@jupyter-widgets/controls",
      "model_module_version": "1.5.0",
      "model_name": "FloatProgressModel",
      "state": {
       "_dom_classes": [],
       "_model_module": "@jupyter-widgets/controls",
       "_model_module_version": "1.5.0",
       "_model_name": "FloatProgressModel",
       "_view_count": null,
       "_view_module": "@jupyter-widgets/controls",
       "_view_module_version": "1.5.0",
       "_view_name": "ProgressView",
       "bar_style": "success",
       "description": "",
       "description_tooltip": null,
       "layout": "IPY_MODEL_d7700d889d7944d3b89d68c557b9e55a",
       "max": 1,
       "min": 0,
       "orientation": "horizontal",
       "style": "IPY_MODEL_92c91844334b4948a3569916a11ed300",
       "value": 1
      }
     },
     "d7700d889d7944d3b89d68c557b9e55a": {
      "model_module": "@jupyter-widgets/base",
      "model_module_version": "1.2.0",
      "model_name": "LayoutModel",
      "state": {
       "_model_module": "@jupyter-widgets/base",
       "_model_module_version": "1.2.0",
       "_model_name": "LayoutModel",
       "_view_count": null,
       "_view_module": "@jupyter-widgets/base",
       "_view_module_version": "1.2.0",
       "_view_name": "LayoutView",
       "align_content": null,
       "align_items": null,
       "align_self": null,
       "border": null,
       "bottom": null,
       "display": null,
       "flex": null,
       "flex_flow": null,
       "grid_area": null,
       "grid_auto_columns": null,
       "grid_auto_flow": null,
       "grid_auto_rows": null,
       "grid_column": null,
       "grid_gap": null,
       "grid_row": null,
       "grid_template_areas": null,
       "grid_template_columns": null,
       "grid_template_rows": null,
       "height": null,
       "justify_content": null,
       "justify_items": null,
       "left": null,
       "margin": null,
       "max_height": null,
       "max_width": null,
       "min_height": null,
       "min_width": null,
       "object_fit": null,
       "object_position": null,
       "order": null,
       "overflow": null,
       "overflow_x": null,
       "overflow_y": null,
       "padding": null,
       "right": null,
       "top": null,
       "visibility": null,
       "width": "20px"
      }
     },
     "e39cc0cce4fc49d9b3d1583b1a6ac4a6": {
      "model_module": "@jupyter-widgets/controls",
      "model_module_version": "1.5.0",
      "model_name": "HBoxModel",
      "state": {
       "_dom_classes": [],
       "_model_module": "@jupyter-widgets/controls",
       "_model_module_version": "1.5.0",
       "_model_name": "HBoxModel",
       "_view_count": null,
       "_view_module": "@jupyter-widgets/controls",
       "_view_module_version": "1.5.0",
       "_view_name": "HBoxView",
       "box_style": "",
       "children": [
        "IPY_MODEL_041d73c1c0a94cc39fd993f376fdc344",
        "IPY_MODEL_ccf5ba4830ae43e7af99c1c0425940e9",
        "IPY_MODEL_bfa6b6431ecd408593582adf89106f32"
       ],
       "layout": "IPY_MODEL_fbcc0353a06b4d4595dbdc2fff749611"
      }
     },
     "e730be6c6f054fa7b9a186ca27dd797b": {
      "model_module": "@jupyter-widgets/base",
      "model_module_version": "1.2.0",
      "model_name": "LayoutModel",
      "state": {
       "_model_module": "@jupyter-widgets/base",
       "_model_module_version": "1.2.0",
       "_model_name": "LayoutModel",
       "_view_count": null,
       "_view_module": "@jupyter-widgets/base",
       "_view_module_version": "1.2.0",
       "_view_name": "LayoutView",
       "align_content": null,
       "align_items": null,
       "align_self": null,
       "border": null,
       "bottom": null,
       "display": null,
       "flex": null,
       "flex_flow": null,
       "grid_area": null,
       "grid_auto_columns": null,
       "grid_auto_flow": null,
       "grid_auto_rows": null,
       "grid_column": null,
       "grid_gap": null,
       "grid_row": null,
       "grid_template_areas": null,
       "grid_template_columns": null,
       "grid_template_rows": null,
       "height": null,
       "justify_content": null,
       "justify_items": null,
       "left": null,
       "margin": null,
       "max_height": null,
       "max_width": null,
       "min_height": null,
       "min_width": null,
       "object_fit": null,
       "object_position": null,
       "order": null,
       "overflow": null,
       "overflow_x": null,
       "overflow_y": null,
       "padding": null,
       "right": null,
       "top": null,
       "visibility": null,
       "width": null
      }
     },
     "fbcc0353a06b4d4595dbdc2fff749611": {
      "model_module": "@jupyter-widgets/base",
      "model_module_version": "1.2.0",
      "model_name": "LayoutModel",
      "state": {
       "_model_module": "@jupyter-widgets/base",
       "_model_module_version": "1.2.0",
       "_model_name": "LayoutModel",
       "_view_count": null,
       "_view_module": "@jupyter-widgets/base",
       "_view_module_version": "1.2.0",
       "_view_name": "LayoutView",
       "align_content": null,
       "align_items": null,
       "align_self": null,
       "border": null,
       "bottom": null,
       "display": null,
       "flex": null,
       "flex_flow": null,
       "grid_area": null,
       "grid_auto_columns": null,
       "grid_auto_flow": null,
       "grid_auto_rows": null,
       "grid_column": null,
       "grid_gap": null,
       "grid_row": null,
       "grid_template_areas": null,
       "grid_template_columns": null,
       "grid_template_rows": null,
       "height": null,
       "justify_content": null,
       "justify_items": null,
       "left": null,
       "margin": null,
       "max_height": null,
       "max_width": null,
       "min_height": null,
       "min_width": null,
       "object_fit": null,
       "object_position": null,
       "order": null,
       "overflow": null,
       "overflow_x": null,
       "overflow_y": null,
       "padding": null,
       "right": null,
       "top": null,
       "visibility": null,
       "width": null
      }
     }
    },
    "version_major": 2,
    "version_minor": 0
   }
  }
 },
 "nbformat": 4,
 "nbformat_minor": 5
}
