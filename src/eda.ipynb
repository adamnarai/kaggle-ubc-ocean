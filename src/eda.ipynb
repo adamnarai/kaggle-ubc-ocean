{
 "cells": [
  {
   "cell_type": "code",
   "execution_count": null,
   "metadata": {},
   "outputs": [],
   "source": [
    "import os\n",
    "import torch\n",
    "import pandas as pd\n",
    "from PIL import Image\n",
    "import matplotlib.pyplot as plt\n",
    "import seaborn as sns\n",
    "\n",
    "# Params\n",
    "Image.MAX_IMAGE_PIXELS = 1e11\n",
    "\n",
    "# Paths\n",
    "root = '/media/latlab/MR/projects/kaggle-ubc-ocean/data'\n",
    "train_filename = 'train.csv'\n",
    "train_img_dir = os.path.join(root, 'train_images')\n",
    "train_thumbnail_dir = os.path.join(root, 'train_thumbnails')\n",
    "\n",
    "# Load descriptive data\n",
    "df = pd.read_csv(os.path.join(root, train_filename))\n",
    "\n",
    "# Add image paths\n",
    "df['image_path'] = df['image_id'].apply(lambda x: os.path.join(train_img_dir, f'{x}.png'))\n",
    "df['thumbnail_path'] = df['image_id'].apply(lambda x: os.path.join(train_thumbnail_dir, f'{x}_thumbnail.png'))\n",
    "df"
   ]
  },
  {
   "cell_type": "code",
   "execution_count": 2,
   "metadata": {},
   "outputs": [],
   "source": [
    "Image.open(df['image_path'][100])"
   ]
  },
  {
   "cell_type": "code",
   "execution_count": null,
   "metadata": {},
   "outputs": [],
   "source": [
    "sns.histplot(df['image_width'], bins=100);\n",
    "sns.histplot(df['image_height'], bins=100);"
   ]
  }
 ],
 "metadata": {
  "kernelspec": {
   "display_name": "ubc-ocean",
   "language": "python",
   "name": "python3"
  },
  "language_info": {
   "codemirror_mode": {
    "name": "ipython",
    "version": 3
   },
   "file_extension": ".py",
   "mimetype": "text/x-python",
   "name": "python",
   "nbconvert_exporter": "python",
   "pygments_lexer": "ipython3",
   "version": "3.11.6"
  }
 },
 "nbformat": 4,
 "nbformat_minor": 2
}
