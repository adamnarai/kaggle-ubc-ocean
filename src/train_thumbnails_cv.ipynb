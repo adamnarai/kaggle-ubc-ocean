{
 "cells": [
  {
   "cell_type": "code",
   "execution_count": 1,
   "metadata": {},
   "outputs": [
    {
     "name": "stderr",
     "output_type": "stream",
     "text": [
      "Failed to detect the name of this notebook, you can set it manually with the WANDB_NOTEBOOK_NAME environment variable to enable code saving.\n",
      "\u001b[34m\u001b[1mwandb\u001b[0m: Currently logged in as: \u001b[33mnaraiadam88\u001b[0m. Use \u001b[1m`wandb login --relogin`\u001b[0m to force relogin\n",
      "\u001b[34m\u001b[1mwandb\u001b[0m: \u001b[33mWARNING\u001b[0m If you're specifying your api key in code, ensure this code is not shared publicly.\n",
      "\u001b[34m\u001b[1mwandb\u001b[0m: \u001b[33mWARNING\u001b[0m Consider setting the WANDB_API_KEY environment variable, or running `wandb login` from the command line.\n",
      "\u001b[34m\u001b[1mwandb\u001b[0m: Appending key for api.wandb.ai to your netrc file: /home/latlab/.netrc\n"
     ]
    },
    {
     "data": {
      "text/html": [
       "wandb version 0.16.1 is available!  To upgrade, please run:\n",
       " $ pip install wandb --upgrade"
      ],
      "text/plain": [
       "<IPython.core.display.HTML object>"
      ]
     },
     "metadata": {},
     "output_type": "display_data"
    },
    {
     "data": {
      "text/html": [
       "Tracking run with wandb version 0.15.12"
      ],
      "text/plain": [
       "<IPython.core.display.HTML object>"
      ]
     },
     "metadata": {},
     "output_type": "display_data"
    },
    {
     "data": {
      "text/html": [
       "Run data is saved locally in <code>/media/latlab/MR/projects/kaggle-ubc-ocean/src/wandb/run-20231218_190943-k0vml8lm</code>"
      ],
      "text/plain": [
       "<IPython.core.display.HTML object>"
      ]
     },
     "metadata": {},
     "output_type": "display_data"
    },
    {
     "data": {
      "text/html": [
       "Syncing run <strong><a href='https://wandb.ai/naraiadam88/kaggle-ubc-ocean/runs/k0vml8lm' target=\"_blank\">glowing-gorge-550</a></strong> to <a href='https://wandb.ai/naraiadam88/kaggle-ubc-ocean' target=\"_blank\">Weights & Biases</a> (<a href='https://wandb.me/run' target=\"_blank\">docs</a>)<br/>"
      ],
      "text/plain": [
       "<IPython.core.display.HTML object>"
      ]
     },
     "metadata": {},
     "output_type": "display_data"
    },
    {
     "data": {
      "text/html": [
       " View project at <a href='https://wandb.ai/naraiadam88/kaggle-ubc-ocean' target=\"_blank\">https://wandb.ai/naraiadam88/kaggle-ubc-ocean</a>"
      ],
      "text/plain": [
       "<IPython.core.display.HTML object>"
      ]
     },
     "metadata": {},
     "output_type": "display_data"
    },
    {
     "data": {
      "text/html": [
       " View run at <a href='https://wandb.ai/naraiadam88/kaggle-ubc-ocean/runs/k0vml8lm' target=\"_blank\">https://wandb.ai/naraiadam88/kaggle-ubc-ocean/runs/k0vml8lm</a>"
      ],
      "text/plain": [
       "<IPython.core.display.HTML object>"
      ]
     },
     "metadata": {},
     "output_type": "display_data"
    }
   ],
   "source": [
    "import os\n",
    "import numpy as np\n",
    "import pandas as pd\n",
    "from PIL import Image\n",
    "import cv2\n",
    "import matplotlib.pyplot as plt\n",
    "from sklearn.model_selection import StratifiedKFold\n",
    "import wandb\n",
    "\n",
    "import torch\n",
    "from torch import nn\n",
    "from torchvision import models\n",
    "import torch.optim as optim\n",
    "\n",
    "from dataset import get_dataloaders, get_datasets\n",
    "from utils import seed_everything\n",
    "from trainer import Trainer\n",
    "\n",
    "# Params\n",
    "Image.MAX_IMAGE_PIXELS = 1e11\n",
    "CFG = {\n",
    "    'seed': 42,\n",
    "    'cv_fold': 5,\n",
    "    'base_model': 'efficientnet_b1',   # resnet18/34/50, efficientnet_b0/b1/b2/b3/b4, convnext_tiny, vit_b_16, swin_t\n",
    "    'img_size': 1024,\n",
    "    'batch_size': 16,\n",
    "    'freeze_epochs': 1,\n",
    "    'epochs': 5,\n",
    "    'base_lr': 1e-3,\n",
    "    'affine_degrees': 10,\n",
    "    'affine_translate': (0.1, 0.1),\n",
    "    'affine_scale': (1.0, 1.4),\n",
    "    'dataloader_num_workers': 8,\n",
    "    'scheduler_step_size': 2,\n",
    "    'img_color_mean': [0.8708488980328596, 0.75677901508938, 0.8545134911215124],#[0.8575818, 0.7605237, 0.8524298],\n",
    "    'img_color_std': [0.08086288591996027, 0.11553960008706814, 0.06914169213328555],#[0.09046003, 0.1384112,  0.08451971],\n",
    "    'optimizer': 'AdamW',\n",
    "    'scheduler': 'CosineAnnealingLR',\n",
    "    'lr_gamma': 0.1,\n",
    "    'lr_cycl_step_size': 3,\n",
    "    'sgd_momentum': 0.9,\n",
    "    'valid_type': 'standard',\n",
    "    'color_jitter': {'brightness': 0.2, 'contrast': 0.2, 'saturation': 0.2, 'hue': 0.2},\n",
    "    'only_wsgi': True\n",
    "}\n",
    "tags = ['torch', 'thumbnails', 'cv']\n",
    "notes = ''\n",
    "plot_samples = False\n",
    "\n",
    "# Wandb\n",
    "wandb.login(key='1b0401db7513303bdea77fb070097f9d2850cf3b')\n",
    "run = wandb.init(project='kaggle-ubc-ocean', config=CFG, tags=tags, notes=notes)\n",
    "\n",
    "# Label encoder/decoder\n",
    "encode = {'HGSC': 0, 'LGSC': 1, 'EC': 2, 'CC': 3, 'MC': 4}\n",
    "decode = {v: k for k, v in encode.items()}\n",
    "\n",
    "device = torch.device('cuda:0' if torch.cuda.is_available() else 'cpu')\n",
    "\n",
    "# Paths\n",
    "root = '/media/latlab/MR/projects/kaggle-ubc-ocean'\n",
    "data_dir = os.path.join(root, 'data')\n",
    "results_dir = os.path.join(root, 'results')\n",
    "train_csv = 'train.csv'\n",
    "train_image_dir = os.path.join(data_dir, 'train_images')\n",
    "train_thumbnail_dir = os.path.join(data_dir, 'train_thumbnails')\n",
    "\n",
    "# Seed\n",
    "seed_everything(CFG['seed'])\n",
    "\n",
    "# Load data\n",
    "df = pd.read_csv(os.path.join(data_dir, train_csv))\n",
    "df['label'] = df.loc[:,'label'].map(encode)\n",
    "\n",
    "if CFG['only_wsgi']:\n",
    "    df = df[df['is_tma'] == False].reset_index(drop=True)\n",
    "\n",
    "# Functions\n",
    "def train_model(CFG, train_image_dir, train_thumbnail_dir, df_train, df_validation, encode, state_filename, wandb_log=False):\n",
    "    # Data loaders\n",
    "    datasets = get_datasets(CFG, train_image_dir, train_thumbnail_dir, df_train, df_validation)\n",
    "    dataloaders = get_dataloaders(CFG, datasets)\n",
    "\n",
    "    # Model definition\n",
    "    model = models.get_model(CFG['base_model'], weights='DEFAULT').to(device)\n",
    "\n",
    "    # Freeze all parameters\n",
    "    for param in model.parameters():\n",
    "        param.requires_grad = False\n",
    "    \n",
    "    # Replace the last fully-connected layer\n",
    "    if CFG['base_model'].startswith('resnet'):\n",
    "        model.fc = nn.Linear(in_features=model.fc.in_features, out_features=len(encode)).to(device)\n",
    "    elif CFG['base_model'].startswith('efficientnet'):\n",
    "        model.classifier[1] = nn.Linear(in_features=model.classifier[1].in_features, out_features=len(encode), bias=True).to(device)\n",
    "    elif CFG['base_model'].startswith('convnext'):\n",
    "        model.classifier[2] = nn.Linear(in_features=model.classifier[2].in_features, out_features=len(encode), bias=True).to(device)\n",
    "    elif CFG['base_model'].startswith('vit'):\n",
    "        model.heads.head = nn.Linear(in_features=model.heads.head.in_features, out_features=len(encode), bias=True).to(device)\n",
    "    elif CFG['base_model'].startswith('swin'):\n",
    "        model.head = nn.Linear(in_features=model.head.in_features, out_features=len(encode), bias=True).to(device)\n",
    "    \n",
    "    # Loss function\n",
    "    loss_fn = nn.CrossEntropyLoss()\n",
    "\n",
    "    # Optimizer\n",
    "    if CFG['optimizer'] == 'SGD':\n",
    "        optimizer = optim.SGD(model.parameters(), lr=CFG['base_lr'], momentum=CFG['sgd_momentum'])\n",
    "    elif CFG['optimizer'] == 'AdamW':\n",
    "        optimizer = optim.AdamW(model.parameters(), lr=CFG['base_lr'])\n",
    "    elif CFG['optimizer'] == 'Adam':\n",
    "        optimizer = optim.Adam(model.parameters(), lr=CFG['base_lr'])\n",
    "    \n",
    "    # Scheduler\n",
    "    if CFG['scheduler'] == 'StepLR':\n",
    "        scheduler = optim.lr_scheduler.StepLR(optimizer, step_size=CFG['scheduler_step_size'], gamma=CFG['lr_gamma'], verbose=True)\n",
    "    elif CFG['scheduler'] == 'CyclicLR':\n",
    "        scheduler = optim.lr_scheduler.CyclicLR(optimizer, base_lr=CFG['base_lr'], max_lr=CFG['base_lr']*10,\n",
    "                                                step_size_up=3, cycle_momentum=False, mode='triangular2', verbose=True)\n",
    "    elif CFG['scheduler'] == 'CosineAnnealingLR':\n",
    "        scheduler = optim.lr_scheduler.CosineAnnealingLR(optimizer, T_max=CFG['epochs']+CFG['freeze_epochs'], verbose=True)\n",
    "    elif CFG['scheduler'] == 'OneCycleLR':\n",
    "        scheduler = optim.lr_scheduler.OneCycleLR(optimizer, max_lr=CFG['base_lr'], total_steps=CFG['epochs']+CFG['freeze_epochs'], verbose=True)\n",
    "\n",
    "    # Training\n",
    "    trainer = Trainer(model, dataloaders, loss_fn, optimizer, scheduler, device, metric='balanced_accuracy', state_filename=state_filename, wandb_log=wandb_log)\n",
    "    trainer.train_epochs(num_epochs=CFG['freeze_epochs'])\n",
    "    trainer.unfreeze()\n",
    "    trainer.train_epochs(num_epochs=CFG['epochs'])\n",
    "    trainer.save_state(state_filename)\n",
    "    return trainer.best_metric"
   ]
  },
  {
   "cell_type": "code",
   "execution_count": 2,
   "metadata": {},
   "outputs": [],
   "source": [
    "# Show data\n",
    "if plot_samples:\n",
    "    dataloaders = get_dataloaders(CFG, get_datasets(CFG, train_image_dir, train_thumbnail_dir, df, df))\n",
    "    with torch.no_grad():\n",
    "        for batch, (X, y) in enumerate(dataloaders['train']):\n",
    "            plt.figure(figsize=(16, 12))\n",
    "            for i in range(len(X)):\n",
    "                plt.subplot(int(np.ceil(len(X)/6)), 6, i+1)\n",
    "                img_data = X[i].permute(1, 2, 0).cpu().numpy()\n",
    "                # Normalize images for plotting (since there are negative values in tensors)\n",
    "                img_data_norm = np.clip(((img_data - img_data.mean(axis=(0, 1, 2))) / img_data.std(axis=(0, 1, 2)))/4 + 0.5, 0, 1)\n",
    "                plt.imshow(img_data_norm)\n",
    "                # plt.hist(img_data.ravel())\n",
    "                plt.title(f'{decode[y[i].item()]}')\n",
    "            if batch >= 1:\n",
    "                break"
   ]
  },
  {
   "cell_type": "code",
   "execution_count": 3,
   "metadata": {},
   "outputs": [],
   "source": [
    "# # Calculate normalization parameters\n",
    "# dataloaders = get_dataloaders(CFG, get_datasets(CFG, train_image_dir, train_thumbnail_dir, df, df))\n",
    "# img_mean = 0\n",
    "# img_std = 0\n",
    "# with torch.no_grad():\n",
    "#     for batch, (X, y) in enumerate(dataloaders['train']):\n",
    "#         for i in range(len(X)):\n",
    "#             img_data = X[i].permute(1, 2, 0).cpu().numpy()\n",
    "#             img_mean += img_data.mean(axis=(0, 1))\n",
    "#             img_std += img_data.std(axis=(0, 1))\n",
    "\n",
    "# img_n = len(dataloaders['train'].dataset)\n",
    "# img_mean /= img_n\n",
    "# img_std /= img_n\n",
    "# print(f'Image mean: {img_mean}')\n",
    "# print(f'Image std: {img_std}')"
   ]
  },
  {
   "cell_type": "code",
   "execution_count": 4,
   "metadata": {},
   "outputs": [
    {
     "name": "stdout",
     "output_type": "stream",
     "text": [
      "Cross-validation fold 1/5\n",
      "Adjusting learning rate of group 0 to 1.0000e-03.\n",
      "Epoch 1/1\n",
      "----------\n"
     ]
    },
    {
     "name": "stderr",
     "output_type": "stream",
     "text": [
      "100%|██████████| 26/26 [00:47<00:00,  1.85s/it]\n",
      "100%|██████████| 7/7 [00:12<00:00,  1.76s/it]\n"
     ]
    },
    {
     "name": "stdout",
     "output_type": "stream",
     "text": [
      "New best balanced_accuracy: 0.4095\n",
      "Saving model to /media/latlab/MR/projects/kaggle-ubc-ocean/results/models/ubc-ocean-glowing-gorge-550-cv1.pt\n",
      "Adjusting learning rate of group 0 to 9.3301e-04.\n",
      "train loss: 1.5273, test loss: 1.4164, balanced_accuracy: 0.4095\n",
      "\n",
      "Training complete in 1m 0s\n",
      "Final balanced_accuracy: 0.409535\n",
      "\n",
      "Epoch 1/5\n",
      "----------\n"
     ]
    },
    {
     "name": "stderr",
     "output_type": "stream",
     "text": [
      "100%|██████████| 26/26 [00:42<00:00,  1.62s/it]\n",
      "100%|██████████| 7/7 [00:10<00:00,  1.46s/it]\n"
     ]
    },
    {
     "name": "stdout",
     "output_type": "stream",
     "text": [
      "New best balanced_accuracy: 0.5529\n",
      "Saving model to /media/latlab/MR/projects/kaggle-ubc-ocean/results/models/ubc-ocean-glowing-gorge-550-cv1.pt\n",
      "Adjusting learning rate of group 0 to 7.5000e-04.\n",
      "train loss: 1.1880, test loss: 1.0256, balanced_accuracy: 0.5529\n",
      "\n",
      "Epoch 2/5\n",
      "----------\n"
     ]
    },
    {
     "name": "stderr",
     "output_type": "stream",
     "text": [
      "100%|██████████| 26/26 [00:38<00:00,  1.47s/it]\n",
      "100%|██████████| 7/7 [00:10<00:00,  1.43s/it]\n"
     ]
    },
    {
     "name": "stdout",
     "output_type": "stream",
     "text": [
      "New best balanced_accuracy: 0.5940\n",
      "Saving model to /media/latlab/MR/projects/kaggle-ubc-ocean/results/models/ubc-ocean-glowing-gorge-550-cv1.pt\n",
      "Adjusting learning rate of group 0 to 5.0000e-04.\n",
      "train loss: 1.0370, test loss: 1.0286, balanced_accuracy: 0.5940\n",
      "\n",
      "Epoch 3/5\n",
      "----------\n"
     ]
    },
    {
     "name": "stderr",
     "output_type": "stream",
     "text": [
      "100%|██████████| 26/26 [00:42<00:00,  1.65s/it]\n",
      "100%|██████████| 7/7 [00:10<00:00,  1.44s/it]\n"
     ]
    },
    {
     "name": "stdout",
     "output_type": "stream",
     "text": [
      "New best balanced_accuracy: 0.6451\n",
      "Saving model to /media/latlab/MR/projects/kaggle-ubc-ocean/results/models/ubc-ocean-glowing-gorge-550-cv1.pt\n",
      "Adjusting learning rate of group 0 to 2.5000e-04.\n",
      "train loss: 0.7871, test loss: 0.9366, balanced_accuracy: 0.6451\n",
      "\n",
      "Epoch 4/5\n",
      "----------\n"
     ]
    },
    {
     "name": "stderr",
     "output_type": "stream",
     "text": [
      "100%|██████████| 26/26 [00:38<00:00,  1.49s/it]\n",
      "100%|██████████| 7/7 [00:10<00:00,  1.43s/it]\n"
     ]
    },
    {
     "name": "stdout",
     "output_type": "stream",
     "text": [
      "New best balanced_accuracy: 0.6739\n",
      "Saving model to /media/latlab/MR/projects/kaggle-ubc-ocean/results/models/ubc-ocean-glowing-gorge-550-cv1.pt\n",
      "Adjusting learning rate of group 0 to 6.6987e-05.\n",
      "train loss: 0.6707, test loss: 0.8433, balanced_accuracy: 0.6739\n",
      "\n",
      "Epoch 5/5\n",
      "----------\n"
     ]
    },
    {
     "name": "stderr",
     "output_type": "stream",
     "text": [
      "100%|██████████| 26/26 [00:37<00:00,  1.44s/it]\n",
      "100%|██████████| 7/7 [00:09<00:00,  1.42s/it]\n"
     ]
    },
    {
     "name": "stdout",
     "output_type": "stream",
     "text": [
      "Adjusting learning rate of group 0 to 0.0000e+00.\n",
      "train loss: 0.5831, test loss: 0.8559, balanced_accuracy: 0.6433\n",
      "\n",
      "Training complete in 4m 10s\n",
      "Final balanced_accuracy: 0.643345\n",
      "\n",
      "Cross-validation fold 2/5\n",
      "Adjusting learning rate of group 0 to 1.0000e-03.\n",
      "Epoch 1/1\n",
      "----------\n"
     ]
    },
    {
     "name": "stderr",
     "output_type": "stream",
     "text": [
      "100%|██████████| 26/26 [00:40<00:00,  1.54s/it]\n",
      "100%|██████████| 7/7 [00:10<00:00,  1.48s/it]\n"
     ]
    },
    {
     "name": "stdout",
     "output_type": "stream",
     "text": [
      "New best balanced_accuracy: 0.4226\n",
      "Saving model to /media/latlab/MR/projects/kaggle-ubc-ocean/results/models/ubc-ocean-glowing-gorge-550-cv2.pt\n",
      "Adjusting learning rate of group 0 to 9.3301e-04.\n",
      "train loss: 1.5333, test loss: 1.3916, balanced_accuracy: 0.4226\n",
      "\n",
      "Training complete in 0m 50s\n",
      "Final balanced_accuracy: 0.422579\n",
      "\n",
      "Epoch 1/5\n",
      "----------\n"
     ]
    },
    {
     "name": "stderr",
     "output_type": "stream",
     "text": [
      "100%|██████████| 26/26 [00:39<00:00,  1.54s/it]\n",
      "100%|██████████| 7/7 [00:10<00:00,  1.51s/it]\n"
     ]
    },
    {
     "name": "stdout",
     "output_type": "stream",
     "text": [
      "New best balanced_accuracy: 0.6596\n",
      "Saving model to /media/latlab/MR/projects/kaggle-ubc-ocean/results/models/ubc-ocean-glowing-gorge-550-cv2.pt\n",
      "Adjusting learning rate of group 0 to 7.5000e-04.\n",
      "train loss: 1.2525, test loss: 0.7920, balanced_accuracy: 0.6596\n",
      "\n",
      "Epoch 2/5\n",
      "----------\n"
     ]
    },
    {
     "name": "stderr",
     "output_type": "stream",
     "text": [
      "100%|██████████| 26/26 [00:41<00:00,  1.58s/it]\n",
      "100%|██████████| 7/7 [00:10<00:00,  1.48s/it]\n"
     ]
    },
    {
     "name": "stdout",
     "output_type": "stream",
     "text": [
      "Adjusting learning rate of group 0 to 5.0000e-04.\n",
      "train loss: 0.9933, test loss: 0.9658, balanced_accuracy: 0.6300\n",
      "\n",
      "Epoch 3/5\n",
      "----------\n"
     ]
    },
    {
     "name": "stderr",
     "output_type": "stream",
     "text": [
      "100%|██████████| 26/26 [00:41<00:00,  1.60s/it]\n",
      "100%|██████████| 7/7 [00:10<00:00,  1.48s/it]\n"
     ]
    },
    {
     "name": "stdout",
     "output_type": "stream",
     "text": [
      "New best balanced_accuracy: 0.7877\n",
      "Saving model to /media/latlab/MR/projects/kaggle-ubc-ocean/results/models/ubc-ocean-glowing-gorge-550-cv2.pt\n",
      "Adjusting learning rate of group 0 to 2.5000e-04.\n",
      "train loss: 0.7963, test loss: 0.6074, balanced_accuracy: 0.7877\n",
      "\n",
      "Epoch 4/5\n",
      "----------\n"
     ]
    },
    {
     "name": "stderr",
     "output_type": "stream",
     "text": [
      "100%|██████████| 26/26 [00:37<00:00,  1.45s/it]\n",
      "100%|██████████| 7/7 [00:10<00:00,  1.48s/it]\n"
     ]
    },
    {
     "name": "stdout",
     "output_type": "stream",
     "text": [
      "Adjusting learning rate of group 0 to 6.6987e-05.\n",
      "train loss: 0.6629, test loss: 0.5839, balanced_accuracy: 0.7526\n",
      "\n",
      "Epoch 5/5\n",
      "----------\n"
     ]
    },
    {
     "name": "stderr",
     "output_type": "stream",
     "text": [
      "100%|██████████| 26/26 [00:38<00:00,  1.49s/it]\n",
      "100%|██████████| 7/7 [00:10<00:00,  1.48s/it]\n"
     ]
    },
    {
     "name": "stdout",
     "output_type": "stream",
     "text": [
      "Adjusting learning rate of group 0 to 0.0000e+00.\n",
      "train loss: 0.6370, test loss: 0.5868, balanced_accuracy: 0.7723\n",
      "\n",
      "Training complete in 4m 12s\n",
      "Final balanced_accuracy: 0.772279\n",
      "\n",
      "Cross-validation fold 3/5\n",
      "Adjusting learning rate of group 0 to 1.0000e-03.\n",
      "Epoch 1/1\n",
      "----------\n"
     ]
    },
    {
     "name": "stderr",
     "output_type": "stream",
     "text": [
      "100%|██████████| 26/26 [00:37<00:00,  1.44s/it]\n",
      "100%|██████████| 7/7 [00:10<00:00,  1.51s/it]\n"
     ]
    },
    {
     "name": "stdout",
     "output_type": "stream",
     "text": [
      "New best balanced_accuracy: 0.3991\n",
      "Saving model to /media/latlab/MR/projects/kaggle-ubc-ocean/results/models/ubc-ocean-glowing-gorge-550-cv3.pt\n",
      "Adjusting learning rate of group 0 to 9.3301e-04.\n",
      "train loss: 1.5175, test loss: 1.3823, balanced_accuracy: 0.3991\n",
      "\n",
      "Training complete in 0m 48s\n",
      "Final balanced_accuracy: 0.399065\n",
      "\n",
      "Epoch 1/5\n",
      "----------\n"
     ]
    },
    {
     "name": "stderr",
     "output_type": "stream",
     "text": [
      "100%|██████████| 26/26 [00:42<00:00,  1.64s/it]\n",
      "100%|██████████| 7/7 [00:10<00:00,  1.50s/it]\n"
     ]
    },
    {
     "name": "stdout",
     "output_type": "stream",
     "text": [
      "New best balanced_accuracy: 0.5962\n",
      "Saving model to /media/latlab/MR/projects/kaggle-ubc-ocean/results/models/ubc-ocean-glowing-gorge-550-cv3.pt\n",
      "Adjusting learning rate of group 0 to 7.5000e-04.\n",
      "train loss: 1.2507, test loss: 1.0231, balanced_accuracy: 0.5962\n",
      "\n",
      "Epoch 2/5\n",
      "----------\n"
     ]
    },
    {
     "name": "stderr",
     "output_type": "stream",
     "text": [
      "100%|██████████| 26/26 [00:39<00:00,  1.50s/it]\n",
      "100%|██████████| 7/7 [00:10<00:00,  1.50s/it]\n"
     ]
    },
    {
     "name": "stdout",
     "output_type": "stream",
     "text": [
      "New best balanced_accuracy: 0.7411\n",
      "Saving model to /media/latlab/MR/projects/kaggle-ubc-ocean/results/models/ubc-ocean-glowing-gorge-550-cv3.pt\n",
      "Adjusting learning rate of group 0 to 5.0000e-04.\n",
      "train loss: 0.9271, test loss: 0.8427, balanced_accuracy: 0.7411\n",
      "\n",
      "Epoch 3/5\n",
      "----------\n"
     ]
    },
    {
     "name": "stderr",
     "output_type": "stream",
     "text": [
      "100%|██████████| 26/26 [00:41<00:00,  1.60s/it]\n",
      "100%|██████████| 7/7 [00:10<00:00,  1.50s/it]\n"
     ]
    },
    {
     "name": "stdout",
     "output_type": "stream",
     "text": [
      "New best balanced_accuracy: 0.7595\n",
      "Saving model to /media/latlab/MR/projects/kaggle-ubc-ocean/results/models/ubc-ocean-glowing-gorge-550-cv3.pt\n",
      "Adjusting learning rate of group 0 to 2.5000e-04.\n",
      "train loss: 0.8142, test loss: 0.6999, balanced_accuracy: 0.7595\n",
      "\n",
      "Epoch 4/5\n",
      "----------\n"
     ]
    },
    {
     "name": "stderr",
     "output_type": "stream",
     "text": [
      "100%|██████████| 26/26 [00:43<00:00,  1.68s/it]\n",
      "100%|██████████| 7/7 [00:10<00:00,  1.50s/it]\n"
     ]
    },
    {
     "name": "stdout",
     "output_type": "stream",
     "text": [
      "Adjusting learning rate of group 0 to 6.6987e-05.\n",
      "train loss: 0.7092, test loss: 0.7071, balanced_accuracy: 0.7066\n",
      "\n",
      "Epoch 5/5\n",
      "----------\n"
     ]
    },
    {
     "name": "stderr",
     "output_type": "stream",
     "text": [
      "100%|██████████| 26/26 [00:39<00:00,  1.50s/it]\n",
      "100%|██████████| 7/7 [00:10<00:00,  1.50s/it]\n"
     ]
    },
    {
     "name": "stdout",
     "output_type": "stream",
     "text": [
      "Adjusting learning rate of group 0 to 0.0000e+00.\n",
      "train loss: 0.6062, test loss: 0.6830, balanced_accuracy: 0.7282\n",
      "\n",
      "Training complete in 4m 19s\n",
      "Final balanced_accuracy: 0.728226\n",
      "\n",
      "Cross-validation fold 4/5\n",
      "Adjusting learning rate of group 0 to 1.0000e-03.\n",
      "Epoch 1/1\n",
      "----------\n"
     ]
    },
    {
     "name": "stderr",
     "output_type": "stream",
     "text": [
      "100%|██████████| 26/26 [00:37<00:00,  1.46s/it]\n",
      "100%|██████████| 7/7 [00:09<00:00,  1.36s/it]\n"
     ]
    },
    {
     "name": "stdout",
     "output_type": "stream",
     "text": [
      "New best balanced_accuracy: 0.2796\n",
      "Saving model to /media/latlab/MR/projects/kaggle-ubc-ocean/results/models/ubc-ocean-glowing-gorge-550-cv4.pt\n",
      "Adjusting learning rate of group 0 to 9.3301e-04.\n",
      "train loss: 1.5094, test loss: 1.3933, balanced_accuracy: 0.2796\n",
      "\n",
      "Training complete in 0m 48s\n",
      "Final balanced_accuracy: 0.279583\n",
      "\n",
      "Epoch 1/5\n",
      "----------\n"
     ]
    },
    {
     "name": "stderr",
     "output_type": "stream",
     "text": [
      "100%|██████████| 26/26 [00:40<00:00,  1.54s/it]\n",
      "100%|██████████| 7/7 [00:09<00:00,  1.34s/it]\n"
     ]
    },
    {
     "name": "stdout",
     "output_type": "stream",
     "text": [
      "New best balanced_accuracy: 0.5053\n",
      "Saving model to /media/latlab/MR/projects/kaggle-ubc-ocean/results/models/ubc-ocean-glowing-gorge-550-cv4.pt\n",
      "Adjusting learning rate of group 0 to 7.5000e-04.\n",
      "train loss: 1.2067, test loss: 1.0385, balanced_accuracy: 0.5053\n",
      "\n",
      "Epoch 2/5\n",
      "----------\n"
     ]
    },
    {
     "name": "stderr",
     "output_type": "stream",
     "text": [
      "100%|██████████| 26/26 [00:42<00:00,  1.63s/it]\n",
      "100%|██████████| 7/7 [00:09<00:00,  1.35s/it]\n"
     ]
    },
    {
     "name": "stdout",
     "output_type": "stream",
     "text": [
      "New best balanced_accuracy: 0.6287\n",
      "Saving model to /media/latlab/MR/projects/kaggle-ubc-ocean/results/models/ubc-ocean-glowing-gorge-550-cv4.pt\n",
      "Adjusting learning rate of group 0 to 5.0000e-04.\n",
      "train loss: 0.9915, test loss: 0.8384, balanced_accuracy: 0.6287\n",
      "\n",
      "Epoch 3/5\n",
      "----------\n"
     ]
    },
    {
     "name": "stderr",
     "output_type": "stream",
     "text": [
      "100%|██████████| 26/26 [00:37<00:00,  1.43s/it]\n",
      "100%|██████████| 7/7 [00:09<00:00,  1.35s/it]\n"
     ]
    },
    {
     "name": "stdout",
     "output_type": "stream",
     "text": [
      "New best balanced_accuracy: 0.6585\n",
      "Saving model to /media/latlab/MR/projects/kaggle-ubc-ocean/results/models/ubc-ocean-glowing-gorge-550-cv4.pt\n",
      "Adjusting learning rate of group 0 to 2.5000e-04.\n",
      "train loss: 0.8844, test loss: 0.8821, balanced_accuracy: 0.6585\n",
      "\n",
      "Epoch 4/5\n",
      "----------\n"
     ]
    },
    {
     "name": "stderr",
     "output_type": "stream",
     "text": [
      "100%|██████████| 26/26 [00:39<00:00,  1.51s/it]\n",
      "100%|██████████| 7/7 [00:09<00:00,  1.35s/it]\n"
     ]
    },
    {
     "name": "stdout",
     "output_type": "stream",
     "text": [
      "New best balanced_accuracy: 0.7226\n",
      "Saving model to /media/latlab/MR/projects/kaggle-ubc-ocean/results/models/ubc-ocean-glowing-gorge-550-cv4.pt\n",
      "Adjusting learning rate of group 0 to 6.6987e-05.\n",
      "train loss: 0.7160, test loss: 0.7083, balanced_accuracy: 0.7226\n",
      "\n",
      "Epoch 5/5\n",
      "----------\n"
     ]
    },
    {
     "name": "stderr",
     "output_type": "stream",
     "text": [
      "100%|██████████| 26/26 [00:38<00:00,  1.47s/it]\n",
      "100%|██████████| 7/7 [00:09<00:00,  1.37s/it]\n"
     ]
    },
    {
     "name": "stdout",
     "output_type": "stream",
     "text": [
      "Adjusting learning rate of group 0 to 0.0000e+00.\n",
      "train loss: 0.6148, test loss: 0.7127, balanced_accuracy: 0.7112\n",
      "\n",
      "Training complete in 4m 5s\n",
      "Final balanced_accuracy: 0.711193\n",
      "\n",
      "Cross-validation fold 5/5\n",
      "Adjusting learning rate of group 0 to 1.0000e-03.\n",
      "Epoch 1/1\n",
      "----------\n"
     ]
    },
    {
     "name": "stderr",
     "output_type": "stream",
     "text": [
      "100%|██████████| 26/26 [00:39<00:00,  1.50s/it]\n",
      "100%|██████████| 7/7 [00:10<00:00,  1.55s/it]\n"
     ]
    },
    {
     "name": "stdout",
     "output_type": "stream",
     "text": [
      "New best balanced_accuracy: 0.2928\n",
      "Saving model to /media/latlab/MR/projects/kaggle-ubc-ocean/results/models/ubc-ocean-glowing-gorge-550-cv5.pt\n",
      "Adjusting learning rate of group 0 to 9.3301e-04.\n",
      "train loss: 1.5118, test loss: 1.4004, balanced_accuracy: 0.2928\n",
      "\n",
      "Training complete in 0m 50s\n",
      "Final balanced_accuracy: 0.292843\n",
      "\n",
      "Epoch 1/5\n",
      "----------\n"
     ]
    },
    {
     "name": "stderr",
     "output_type": "stream",
     "text": [
      "100%|██████████| 26/26 [00:39<00:00,  1.53s/it]\n",
      "100%|██████████| 7/7 [00:10<00:00,  1.56s/it]\n"
     ]
    },
    {
     "name": "stdout",
     "output_type": "stream",
     "text": [
      "New best balanced_accuracy: 0.4149\n",
      "Saving model to /media/latlab/MR/projects/kaggle-ubc-ocean/results/models/ubc-ocean-glowing-gorge-550-cv5.pt\n",
      "Adjusting learning rate of group 0 to 7.5000e-04.\n",
      "train loss: 1.2729, test loss: 1.3589, balanced_accuracy: 0.4149\n",
      "\n",
      "Epoch 2/5\n",
      "----------\n"
     ]
    },
    {
     "name": "stderr",
     "output_type": "stream",
     "text": [
      "100%|██████████| 26/26 [00:39<00:00,  1.51s/it]\n",
      "100%|██████████| 7/7 [00:10<00:00,  1.55s/it]\n"
     ]
    },
    {
     "name": "stdout",
     "output_type": "stream",
     "text": [
      "New best balanced_accuracy: 0.4897\n",
      "Saving model to /media/latlab/MR/projects/kaggle-ubc-ocean/results/models/ubc-ocean-glowing-gorge-550-cv5.pt\n",
      "Adjusting learning rate of group 0 to 5.0000e-04.\n",
      "train loss: 0.9619, test loss: 1.1730, balanced_accuracy: 0.4897\n",
      "\n",
      "Epoch 3/5\n",
      "----------\n"
     ]
    },
    {
     "name": "stderr",
     "output_type": "stream",
     "text": [
      "100%|██████████| 26/26 [00:40<00:00,  1.57s/it]\n",
      "100%|██████████| 7/7 [00:10<00:00,  1.55s/it]\n"
     ]
    },
    {
     "name": "stdout",
     "output_type": "stream",
     "text": [
      "New best balanced_accuracy: 0.5432\n",
      "Saving model to /media/latlab/MR/projects/kaggle-ubc-ocean/results/models/ubc-ocean-glowing-gorge-550-cv5.pt\n",
      "Adjusting learning rate of group 0 to 2.5000e-04.\n",
      "train loss: 0.7897, test loss: 0.9733, balanced_accuracy: 0.5432\n",
      "\n",
      "Epoch 4/5\n",
      "----------\n"
     ]
    },
    {
     "name": "stderr",
     "output_type": "stream",
     "text": [
      "100%|██████████| 26/26 [00:37<00:00,  1.45s/it]\n",
      "100%|██████████| 7/7 [00:10<00:00,  1.55s/it]\n"
     ]
    },
    {
     "name": "stdout",
     "output_type": "stream",
     "text": [
      "New best balanced_accuracy: 0.5784\n",
      "Saving model to /media/latlab/MR/projects/kaggle-ubc-ocean/results/models/ubc-ocean-glowing-gorge-550-cv5.pt\n",
      "Adjusting learning rate of group 0 to 6.6987e-05.\n",
      "train loss: 0.6355, test loss: 0.8161, balanced_accuracy: 0.5784\n",
      "\n",
      "Epoch 5/5\n",
      "----------\n"
     ]
    },
    {
     "name": "stderr",
     "output_type": "stream",
     "text": [
      "100%|██████████| 26/26 [00:39<00:00,  1.52s/it]\n",
      "100%|██████████| 7/7 [00:11<00:00,  1.59s/it]\n"
     ]
    },
    {
     "name": "stdout",
     "output_type": "stream",
     "text": [
      "New best balanced_accuracy: 0.6169\n",
      "Saving model to /media/latlab/MR/projects/kaggle-ubc-ocean/results/models/ubc-ocean-glowing-gorge-550-cv5.pt\n",
      "Adjusting learning rate of group 0 to 0.0000e+00.\n",
      "train loss: 0.6262, test loss: 0.8282, balanced_accuracy: 0.6169\n",
      "\n",
      "Training complete in 4m 13s\n",
      "Final balanced_accuracy: 0.616936\n",
      "\n"
     ]
    },
    {
     "data": {
      "text/html": [
       "Waiting for W&B process to finish... <strong style=\"color:green\">(success).</strong>"
      ],
      "text/plain": [
       "<IPython.core.display.HTML object>"
      ]
     },
     "metadata": {},
     "output_type": "display_data"
    },
    {
     "name": "stderr",
     "output_type": "stream",
     "text": [
      "wandb: WARNING Source type is set to 'repo' but some required information is missing from the environment. A job will not be created from this run. See https://docs.wandb.ai/guides/launch/create-job\n"
     ]
    },
    {
     "data": {
      "application/vnd.jupyter.widget-view+json": {
       "model_id": "d1260b2ae86043d1aab03976bb29067a",
       "version_major": 2,
       "version_minor": 0
      },
      "text/plain": [
       "VBox(children=(Label(value='0.005 MB of 0.005 MB uploaded (0.000 MB deduped)\\r'), FloatProgress(value=1.0, max…"
      ]
     },
     "metadata": {},
     "output_type": "display_data"
    },
    {
     "data": {
      "text/html": [
       "<style>\n",
       "    table.wandb td:nth-child(1) { padding: 0 10px; text-align: left ; width: auto;} td:nth-child(2) {text-align: left ; width: 100%}\n",
       "    .wandb-row { display: flex; flex-direction: row; flex-wrap: wrap; justify-content: flex-start; width: 100% }\n",
       "    .wandb-col { display: flex; flex-direction: column; flex-basis: 100%; flex: 1; padding: 10px; }\n",
       "    </style>\n",
       "<div class=\"wandb-row\"><div class=\"wandb-col\"><h3>Run history:</h3><br/><table class=\"wandb\"><tr><td>balanced_acc_cv1</td><td>▁</td></tr><tr><td>balanced_acc_cv2</td><td>▁</td></tr><tr><td>balanced_acc_cv3</td><td>▁</td></tr><tr><td>balanced_acc_cv4</td><td>▁</td></tr><tr><td>balanced_acc_cv5</td><td>▁</td></tr><tr><td>mean_balanced_acc</td><td>▁</td></tr></table><br/></div><div class=\"wandb-col\"><h3>Run summary:</h3><br/><table class=\"wandb\"><tr><td>balanced_acc_cv1</td><td>0.6739</td></tr><tr><td>balanced_acc_cv2</td><td>0.7877</td></tr><tr><td>balanced_acc_cv3</td><td>0.75952</td></tr><tr><td>balanced_acc_cv4</td><td>0.72264</td></tr><tr><td>balanced_acc_cv5</td><td>0.61694</td></tr><tr><td>mean_balanced_acc</td><td>0.71214</td></tr></table><br/></div></div>"
      ],
      "text/plain": [
       "<IPython.core.display.HTML object>"
      ]
     },
     "metadata": {},
     "output_type": "display_data"
    },
    {
     "data": {
      "text/html": [
       " View run <strong style=\"color:#cdcd00\">glowing-gorge-550</strong> at: <a href='https://wandb.ai/naraiadam88/kaggle-ubc-ocean/runs/k0vml8lm' target=\"_blank\">https://wandb.ai/naraiadam88/kaggle-ubc-ocean/runs/k0vml8lm</a><br/>Synced 6 W&B file(s), 0 media file(s), 0 artifact file(s) and 0 other file(s)"
      ],
      "text/plain": [
       "<IPython.core.display.HTML object>"
      ]
     },
     "metadata": {},
     "output_type": "display_data"
    },
    {
     "data": {
      "text/html": [
       "Find logs at: <code>./wandb/run-20231218_190943-k0vml8lm/logs</code>"
      ],
      "text/plain": [
       "<IPython.core.display.HTML object>"
      ]
     },
     "metadata": {},
     "output_type": "display_data"
    }
   ],
   "source": [
    "skf = StratifiedKFold(n_splits=CFG['cv_fold'], random_state=CFG['seed'], shuffle=True)\n",
    "balanced_acc_list = []\n",
    "if CFG['valid_type'] == 'all_tmas':\n",
    "    df_tma = df[df['is_tma']==True].copy().reset_index(drop=True)\n",
    "    df_wsi = df[df['is_tma']==False].copy().reset_index(drop=True)\n",
    "    for cv, (train_index, valid_index) in enumerate(skf.split(X=np.zeros(len(df_wsi['label'])), y=df_wsi['label'])):\n",
    "        print(f\"Cross-validation fold {cv+1}/{CFG['cv_fold']}\")\n",
    "        df_train = df_wsi.iloc[train_index]\n",
    "        df_validation = df_wsi.iloc[valid_index]\n",
    "        df_validation = pd.concat([df_validation, df_tma], ignore_index=True).sample(frac=1).reset_index(drop=True)\n",
    "        run_name = f'{run.name}-cv{cv+1}'\n",
    "        state_filename = os.path.join(results_dir, 'models', f'ubc-ocean-{run_name}.pt')\n",
    "        balanced_acc = train_model(CFG, train_image_dir, train_thumbnail_dir, df_train, df_validation, encode, state_filename)\n",
    "        balanced_acc_list.append(balanced_acc)\n",
    "        wandb.log({f'balanced_acc_cv{cv+1}': balanced_acc})\n",
    "elif CFG['valid_type'] == 'standard':\n",
    "    for cv, (train_index, valid_index) in enumerate(skf.split(X=np.zeros(len(df['label'])), y=df['label'])):\n",
    "        print(f\"Cross-validation fold {cv+1}/{CFG['cv_fold']}\")\n",
    "        df_train = df.iloc[train_index]\n",
    "        df_validation = df.iloc[valid_index]\n",
    "        run_name = f'{run.name}-cv{cv+1}'\n",
    "        state_filename = os.path.join(results_dir, 'models', f'ubc-ocean-{run_name}.pt')\n",
    "        balanced_acc = train_model(CFG, train_image_dir, train_thumbnail_dir, df_train, df_validation, encode, state_filename)\n",
    "        balanced_acc_list.append(balanced_acc)\n",
    "        wandb.log({f'balanced_acc_cv{cv+1}': balanced_acc})\n",
    "wandb.log({f'mean_balanced_acc': np.mean(balanced_acc_list)})\n",
    "wandb.finish()"
   ]
  },
  {
   "cell_type": "code",
   "execution_count": 5,
   "metadata": {},
   "outputs": [
    {
     "name": "stdout",
     "output_type": "stream",
     "text": [
      "Adjusting learning rate of group 0 to 1.0000e-03.\n",
      "Epoch 1/1\n",
      "----------\n"
     ]
    },
    {
     "name": "stderr",
     "output_type": "stream",
     "text": [
      "100%|██████████| 33/33 [00:41<00:00,  1.27s/it]\n",
      "100%|██████████| 33/33 [00:36<00:00,  1.12s/it]\n"
     ]
    },
    {
     "name": "stdout",
     "output_type": "stream",
     "text": [
      "New best balanced_accuracy: 0.4266\n",
      "Saving model to /media/latlab/MR/projects/kaggle-ubc-ocean/results/models/ubc-ocean-glowing-gorge-550.pt\n",
      "Adjusting learning rate of group 0 to 9.3301e-04.\n",
      "train loss: 1.5079, test loss: 1.3718, balanced_accuracy: 0.4266\n",
      "\n",
      "Training complete in 1m 19s\n",
      "Final balanced_accuracy: 0.426563\n",
      "\n",
      "Epoch 1/5\n",
      "----------\n"
     ]
    },
    {
     "name": "stderr",
     "output_type": "stream",
     "text": [
      "100%|██████████| 33/33 [00:45<00:00,  1.37s/it]\n",
      "100%|██████████| 33/33 [00:36<00:00,  1.11s/it]\n"
     ]
    },
    {
     "name": "stdout",
     "output_type": "stream",
     "text": [
      "New best balanced_accuracy: 0.6745\n",
      "Saving model to /media/latlab/MR/projects/kaggle-ubc-ocean/results/models/ubc-ocean-glowing-gorge-550.pt\n",
      "Adjusting learning rate of group 0 to 7.5000e-04.\n",
      "train loss: 1.2509, test loss: 0.8169, balanced_accuracy: 0.6745\n",
      "\n",
      "Epoch 2/5\n",
      "----------\n"
     ]
    },
    {
     "name": "stderr",
     "output_type": "stream",
     "text": [
      "100%|██████████| 33/33 [00:45<00:00,  1.38s/it]\n",
      "100%|██████████| 33/33 [00:36<00:00,  1.12s/it]\n"
     ]
    },
    {
     "name": "stdout",
     "output_type": "stream",
     "text": [
      "New best balanced_accuracy: 0.7270\n",
      "Saving model to /media/latlab/MR/projects/kaggle-ubc-ocean/results/models/ubc-ocean-glowing-gorge-550.pt\n",
      "Adjusting learning rate of group 0 to 5.0000e-04.\n",
      "train loss: 0.9977, test loss: 0.6395, balanced_accuracy: 0.7270\n",
      "\n",
      "Epoch 3/5\n",
      "----------\n"
     ]
    },
    {
     "name": "stderr",
     "output_type": "stream",
     "text": [
      "100%|██████████| 33/33 [00:43<00:00,  1.33s/it]\n",
      "100%|██████████| 33/33 [00:36<00:00,  1.11s/it]\n"
     ]
    },
    {
     "name": "stdout",
     "output_type": "stream",
     "text": [
      "New best balanced_accuracy: 0.7741\n",
      "Saving model to /media/latlab/MR/projects/kaggle-ubc-ocean/results/models/ubc-ocean-glowing-gorge-550.pt\n",
      "Adjusting learning rate of group 0 to 2.5000e-04.\n",
      "train loss: 0.8227, test loss: 0.5661, balanced_accuracy: 0.7741\n",
      "\n",
      "Epoch 4/5\n",
      "----------\n"
     ]
    },
    {
     "name": "stderr",
     "output_type": "stream",
     "text": [
      "100%|██████████| 33/33 [00:45<00:00,  1.39s/it]\n",
      "100%|██████████| 33/33 [00:36<00:00,  1.11s/it]\n"
     ]
    },
    {
     "name": "stdout",
     "output_type": "stream",
     "text": [
      "New best balanced_accuracy: 0.8362\n",
      "Saving model to /media/latlab/MR/projects/kaggle-ubc-ocean/results/models/ubc-ocean-glowing-gorge-550.pt\n",
      "Adjusting learning rate of group 0 to 6.6987e-05.\n",
      "train loss: 0.6689, test loss: 0.4710, balanced_accuracy: 0.8362\n",
      "\n",
      "Epoch 5/5\n",
      "----------\n"
     ]
    },
    {
     "name": "stderr",
     "output_type": "stream",
     "text": [
      "100%|██████████| 33/33 [00:46<00:00,  1.42s/it]\n",
      "100%|██████████| 33/33 [00:36<00:00,  1.12s/it]\n"
     ]
    },
    {
     "name": "stdout",
     "output_type": "stream",
     "text": [
      "New best balanced_accuracy: 0.8400\n",
      "Saving model to /media/latlab/MR/projects/kaggle-ubc-ocean/results/models/ubc-ocean-glowing-gorge-550.pt\n",
      "Adjusting learning rate of group 0 to 0.0000e+00.\n",
      "train loss: 0.5881, test loss: 0.3979, balanced_accuracy: 0.8400\n",
      "\n",
      "Training complete in 6m 52s\n",
      "Final balanced_accuracy: 0.840029\n",
      "\n"
     ]
    },
    {
     "data": {
      "text/plain": [
       "0.8400290604457273"
      ]
     },
     "execution_count": 5,
     "metadata": {},
     "output_type": "execute_result"
    }
   ],
   "source": [
    "# Final training on all data\n",
    "state_filename = os.path.join(results_dir, 'models', f'ubc-ocean-{run.name}.pt')\n",
    "train_model(CFG, train_image_dir, train_thumbnail_dir, df, df, encode, state_filename, wandb_log=False)"
   ]
  }
 ],
 "metadata": {
  "kernelspec": {
   "display_name": "ubc-ocean",
   "language": "python",
   "name": "python3"
  },
  "language_info": {
   "codemirror_mode": {
    "name": "ipython",
    "version": 3
   },
   "file_extension": ".py",
   "mimetype": "text/x-python",
   "name": "python",
   "nbconvert_exporter": "python",
   "pygments_lexer": "ipython3",
   "version": "3.11.6"
  }
 },
 "nbformat": 4,
 "nbformat_minor": 2
}
