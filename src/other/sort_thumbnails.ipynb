{
 "cells": [
  {
   "cell_type": "code",
   "execution_count": null,
   "metadata": {},
   "outputs": [],
   "source": [
    "import os\n",
    "import torch\n",
    "import pandas as pd\n",
    "from PIL import Image\n",
    "import matplotlib.pyplot as plt\n",
    "import seaborn as sns\n",
    "import shutil\n",
    "from tqdm import tqdm\n",
    "\n",
    "# Params\n",
    "Image.MAX_IMAGE_PIXELS = 1e11\n",
    "\n",
    "# Paths\n",
    "root = '/media/latlab/MR/projects/kaggle-ubc-ocean'\n",
    "train_filename = 'train.csv'\n",
    "data_dir = os.path.join(root, 'data')\n",
    "results_dir = os.path.join(root, 'results')\n",
    "train_img_dir = os.path.join(data_dir, 'train_images')\n",
    "train_thumbnail_dir = os.path.join(data_dir, 'train_thumbnails')\n",
    "\n",
    "# Load descriptive data\n",
    "df = pd.read_csv(os.path.join(data_dir, train_filename))\n",
    "\n",
    "# Add image paths\n",
    "df['image_path'] = df['image_id'].apply(lambda x: os.path.join(train_img_dir, f'{x}.png'))\n",
    "df['thumbnail_path'] = df['image_id'].apply(lambda x: os.path.join(train_thumbnail_dir, f'{x}_thumbnail.png'))\n",
    "df"
   ]
  },
  {
   "cell_type": "code",
   "execution_count": null,
   "metadata": {},
   "outputs": [],
   "source": [
    "for i, row in df.iterrows():\n",
    "    src_path = row['thumbnail_path']\n",
    "    if not os.path.exists(src_path):\n",
    "        src_path = row['image_path']\n",
    "    dest_dir = os.path.join(results_dir, 'thumbnails_sorted', row['label'])\n",
    "    os.makedirs(dest_dir, exist_ok=True)\n",
    "    dest_path = os.path.join(dest_dir, os.path.split(row['thumbnail_path'])[1])\n",
    "    shutil.copy2(src_path, dest_path)"
   ]
  }
 ],
 "metadata": {
  "kernelspec": {
   "display_name": "ubc-ocean",
   "language": "python",
   "name": "python3"
  },
  "language_info": {
   "codemirror_mode": {
    "name": "ipython",
    "version": 3
   },
   "file_extension": ".py",
   "mimetype": "text/x-python",
   "name": "python",
   "nbconvert_exporter": "python",
   "pygments_lexer": "ipython3",
   "version": "3.11.6"
  }
 },
 "nbformat": 4,
 "nbformat_minor": 2
}
