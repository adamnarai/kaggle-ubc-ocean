{
 "cells": [
  {
   "cell_type": "code",
   "execution_count": 1,
   "metadata": {},
   "outputs": [
    {
     "name": "stderr",
     "output_type": "stream",
     "text": [
      "Failed to detect the name of this notebook, you can set it manually with the WANDB_NOTEBOOK_NAME environment variable to enable code saving.\n",
      "\u001b[34m\u001b[1mwandb\u001b[0m: Currently logged in as: \u001b[33mnaraiadam88\u001b[0m. Use \u001b[1m`wandb login --relogin`\u001b[0m to force relogin\n",
      "\u001b[34m\u001b[1mwandb\u001b[0m: \u001b[33mWARNING\u001b[0m If you're specifying your api key in code, ensure this code is not shared publicly.\n",
      "\u001b[34m\u001b[1mwandb\u001b[0m: \u001b[33mWARNING\u001b[0m Consider setting the WANDB_API_KEY environment variable, or running `wandb login` from the command line.\n",
      "\u001b[34m\u001b[1mwandb\u001b[0m: Appending key for api.wandb.ai to your netrc file: /home/latlab/.netrc\n"
     ]
    },
    {
     "data": {
      "text/html": [
       "wandb version 0.16.0 is available!  To upgrade, please run:\n",
       " $ pip install wandb --upgrade"
      ],
      "text/plain": [
       "<IPython.core.display.HTML object>"
      ]
     },
     "metadata": {},
     "output_type": "display_data"
    },
    {
     "data": {
      "text/html": [
       "Tracking run with wandb version 0.15.12"
      ],
      "text/plain": [
       "<IPython.core.display.HTML object>"
      ]
     },
     "metadata": {},
     "output_type": "display_data"
    },
    {
     "data": {
      "text/html": [
       "Run data is saved locally in <code>/media/latlab/MR/projects/kaggle-ubc-ocean/src/wandb/run-20231204_001105-6dk9pwoh</code>"
      ],
      "text/plain": [
       "<IPython.core.display.HTML object>"
      ]
     },
     "metadata": {},
     "output_type": "display_data"
    },
    {
     "data": {
      "text/html": [
       "Syncing run <strong><a href='https://wandb.ai/naraiadam88/kaggle-ubc-ocean/runs/6dk9pwoh' target=\"_blank\">restful-butterfly-331</a></strong> to <a href='https://wandb.ai/naraiadam88/kaggle-ubc-ocean' target=\"_blank\">Weights & Biases</a> (<a href='https://wandb.me/run' target=\"_blank\">docs</a>)<br/>"
      ],
      "text/plain": [
       "<IPython.core.display.HTML object>"
      ]
     },
     "metadata": {},
     "output_type": "display_data"
    },
    {
     "data": {
      "text/html": [
       " View project at <a href='https://wandb.ai/naraiadam88/kaggle-ubc-ocean' target=\"_blank\">https://wandb.ai/naraiadam88/kaggle-ubc-ocean</a>"
      ],
      "text/plain": [
       "<IPython.core.display.HTML object>"
      ]
     },
     "metadata": {},
     "output_type": "display_data"
    },
    {
     "data": {
      "text/html": [
       " View run at <a href='https://wandb.ai/naraiadam88/kaggle-ubc-ocean/runs/6dk9pwoh' target=\"_blank\">https://wandb.ai/naraiadam88/kaggle-ubc-ocean/runs/6dk9pwoh</a>"
      ],
      "text/plain": [
       "<IPython.core.display.HTML object>"
      ]
     },
     "metadata": {},
     "output_type": "display_data"
    }
   ],
   "source": [
    "import os\n",
    "import numpy as np\n",
    "import pandas as pd\n",
    "from PIL import Image\n",
    "import matplotlib.pyplot as plt\n",
    "import seaborn as sns\n",
    "from sklearn.model_selection import StratifiedGroupKFold\n",
    "import wandb\n",
    "\n",
    "import torch\n",
    "from torch import nn\n",
    "from torchvision import models\n",
    "import torch.optim as optim\n",
    "\n",
    "from dataset import get_dataloaders, get_tiles_datasets\n",
    "from utils import seed_everything\n",
    "from trainer import Trainer\n",
    "\n",
    "# Params\n",
    "Image.MAX_IMAGE_PIXELS = 1e11\n",
    "CFG = {\n",
    "    'seed': 42,\n",
    "    'base_model': 'convnext_tiny',   # resnet18/34/50, efficientnet_b0/b1/b2/b3/b4, convnext_tiny, vit_b_16, swin_t\n",
    "    'img_size': 512,\n",
    "    'batch_size': 32,\n",
    "    'freeze_epochs': 1,\n",
    "    'epochs': 3,\n",
    "    'base_lr': 1e-3,\n",
    "    'affine_degrees': 0,\n",
    "    'affine_translate': None,\n",
    "    'affine_scale': None,\n",
    "    'dataloader_num_workers': 8,\n",
    "    'scheduler_step_size': 2,\n",
    "    'img_color_mean': [0.8708488980328596, 0.75677901508938, 0.8545134911215124],\n",
    "    'img_color_std': [0.08086288591996027, 0.11553960008706814, 0.06914169213328555],\n",
    "    'tile_num': 8,\n",
    "    'optimizer': 'AdamW',\n",
    "    'scheduler': 'StepLR',\n",
    "    'lr_gamma': 0.1,\n",
    "    'sgd_momentum': 0.9,\n",
    "    'valid_type': 'all_tmas',\n",
    "    'tile_set': 'train_tiles_2048_p25_test_v1',\n",
    "    'tile_tbl_postfix': ''\n",
    "}\n",
    "tags=['torch', 'tiles', 'baseline']\n",
    "notes = ''\n",
    "plot_samples = False\n",
    "\n",
    "# Wandb\n",
    "wandb.login(key='1b0401db7513303bdea77fb070097f9d2850cf3b')\n",
    "run = wandb.init(project='kaggle-ubc-ocean', config=CFG, tags=tags, notes=notes)\n",
    "\n",
    "# Label encoder/decoder\n",
    "encode = {'HGSC': 0, 'LGSC': 1, 'EC': 2, 'CC': 3, 'MC': 4}\n",
    "decode = {v: k for k, v in encode.items()}\n",
    "\n",
    "device = torch.device('cuda:0' if torch.cuda.is_available() else 'cpu')\n",
    "\n",
    "# Paths\n",
    "root = '/media/latlab/MR/projects/kaggle-ubc-ocean'\n",
    "data_dir = os.path.join(root, 'data')\n",
    "results_dir = os.path.join(root, 'results')\n",
    "train_image_dir = os.path.join(results_dir, CFG['tile_set'])\n",
    "train_csv = '{}_sample{}.csv'.format(CFG['tile_set'], CFG['tile_num'])\n",
    "\n",
    "# Seed\n",
    "seed_everything(CFG['seed'])\n",
    "\n",
    "# Load data\n",
    "df = pd.read_csv(os.path.join(results_dir, train_csv))\n",
    "df['label'] = df.loc[:,'label'].map(encode)\n",
    "\n",
    "# Functions\n",
    "def train_model(CFG, train_image_dir, df_train, df_validation, encode, wandb_log=False):\n",
    "    # Data loaders\n",
    "    datasets = get_tiles_datasets(CFG, train_image_dir, df_train, df_validation)\n",
    "    dataloaders = get_dataloaders(CFG, datasets)\n",
    "\n",
    "    # Model definition\n",
    "    model = models.get_model(CFG['base_model'], weights='DEFAULT').to(device)\n",
    "\n",
    "    # Freeze all parameters\n",
    "    for param in model.parameters():\n",
    "        param.requires_grad = False\n",
    "    \n",
    "    # Replace the last fully-connected layer\n",
    "    if CFG['base_model'].startswith('resnet'):\n",
    "        model.fc = nn.Linear(in_features=model.fc.in_features, out_features=len(encode)).to(device)\n",
    "    elif CFG['base_model'].startswith('efficientnet'):\n",
    "        model.classifier[1] = nn.Linear(in_features=model.classifier[1].in_features, out_features=len(encode), bias=True).to(device)\n",
    "    elif CFG['base_model'].startswith('convnext'):\n",
    "        model.classifier[2] = nn.Linear(in_features=model.classifier[2].in_features, out_features=len(encode), bias=True).to(device)\n",
    "    elif CFG['base_model'].startswith('vit'):\n",
    "        model.heads.head = nn.Linear(in_features=model.heads.head.in_features, out_features=len(encode), bias=True).to(device)\n",
    "    elif CFG['base_model'].startswith('swin'):\n",
    "        model.head = nn.Linear(in_features=model.head.in_features, out_features=len(encode), bias=True).to(device)\n",
    "    \n",
    "    # Loss function\n",
    "    loss_fn = nn.CrossEntropyLoss()\n",
    "\n",
    "    # Optimizer\n",
    "    if CFG['optimizer'] == 'SGD':\n",
    "        optimizer = optim.SGD(model.parameters(), lr=CFG['base_lr'], momentum=CFG['sgd_momentum'])\n",
    "    elif CFG['optimizer'] == 'AdamW':\n",
    "        optimizer = optim.AdamW(model.parameters(), lr=CFG['base_lr'])\n",
    "    elif CFG['optimizer'] == 'Adam':\n",
    "        optimizer = optim.Adam(model.parameters(), lr=CFG['base_lr'])\n",
    "    \n",
    "    # Scheduler\n",
    "    if CFG['scheduler'] == 'StepLR':\n",
    "        scheduler = optim.lr_scheduler.StepLR(optimizer, step_size=CFG['scheduler_step_size'], gamma=CFG['lr_gamma'], verbose=True)\n",
    "    elif CFG['scheduler'] == 'CyclicLR':\n",
    "        scheduler = optim.lr_scheduler.CyclicLR(optimizer, base_lr=CFG['base_lr'], max_lr=CFG['base_lr']*5,\n",
    "                                                step_size_up=5, cycle_momentum=False, mode='triangular2', verbose=True)\n",
    "    elif CFG['scheduler'] == 'CosineAnnealingLR':\n",
    "        scheduler = optim.lr_scheduler.CosineAnnealingLR(optimizer, T_max=CFG['epochs']+CFG['freeze_epochs'], verbose=True)\n",
    "    elif CFG['scheduler'] == 'OneCycleLR':\n",
    "        scheduler = optim.lr_scheduler.OneCycleLR(optimizer, max_lr=CFG['base_lr'], total_steps=CFG['epochs']+CFG['freeze_epochs'], verbose=True)\n",
    "\n",
    "    # Training\n",
    "    trainer = Trainer(model, dataloaders, loss_fn, optimizer, scheduler, device, metric='balanced_accuracy', wandb_log=wandb_log)\n",
    "    model, _ = trainer.train_epochs(num_epochs=CFG['freeze_epochs'])\n",
    "    trainer.unfreeze()\n",
    "    model, balanced_acc = trainer.train_epochs(num_epochs=CFG['epochs'])\n",
    "    return model, balanced_acc"
   ]
  },
  {
   "cell_type": "code",
   "execution_count": 2,
   "metadata": {},
   "outputs": [],
   "source": [
    "# Split train/valid\n",
    "skf = StratifiedGroupKFold(n_splits=5, random_state=CFG['seed'], shuffle=True)\n",
    "if 'valid_type' in CFG and CFG['valid_type'] == 'all_tmas':\n",
    "    df_tma = df[df['is_tma']==True].copy().reset_index(drop=True)\n",
    "    df_wsi = df[df['is_tma']==False].copy().reset_index(drop=True)\n",
    "    train_index, valid_index = next(skf.split(X=np.zeros(len(df_wsi['label'])), y=df_wsi['label'], groups=df_wsi['orig_image_id']))\n",
    "    df_train = df_wsi.iloc[train_index]\n",
    "    df_validation = df_wsi.iloc[valid_index]\n",
    "    df_validation = pd.concat([df_validation, df_tma], ignore_index=True).sample(frac=1).reset_index(drop=True)\n",
    "else:\n",
    "    train_index, valid_index = next(skf.split(X=np.zeros(len(df['label'])), y=df['label'], groups=df['orig_image_id']))\n",
    "    df_train = df.iloc[train_index]\n",
    "    df_validation = df.iloc[valid_index]"
   ]
  },
  {
   "cell_type": "code",
   "execution_count": 3,
   "metadata": {},
   "outputs": [],
   "source": [
    "# Show training data\n",
    "if plot_samples:\n",
    "    dataloaders = get_dataloaders(CFG, get_tiles_datasets(CFG, train_image_dir, df_train, df_validation))\n",
    "    with torch.no_grad():\n",
    "        for batch, (X, y) in enumerate(dataloaders['train']):\n",
    "            plt.figure(figsize=(np.ceil(len(X)/2), 12))\n",
    "            for i in range(len(X)):\n",
    "                plt.subplot(int(np.ceil(len(X)/6)), 6, i+1)\n",
    "                img_data = X[i].permute(1, 2, 0).cpu().numpy()\n",
    "                plt.imshow(img_data)\n",
    "                plt.title(f'{decode[y[i].item()]}')\n",
    "            if batch >= 1:\n",
    "                break"
   ]
  },
  {
   "cell_type": "code",
   "execution_count": 4,
   "metadata": {},
   "outputs": [
    {
     "name": "stdout",
     "output_type": "stream",
     "text": [
      "Adjusting learning rate of group 0 to 1.0000e-04.\n",
      "Epoch 1/1\n",
      "----------\n"
     ]
    },
    {
     "name": "stderr",
     "output_type": "stream",
     "text": [
      "100%|██████████| 103/103 [00:18<00:00,  5.49it/s]\n",
      "100%|██████████| 29/29 [00:05<00:00,  5.26it/s]\n"
     ]
    },
    {
     "name": "stdout",
     "output_type": "stream",
     "text": [
      "Adjusting learning rate of group 0 to 1.0000e-04.\n",
      "train loss: 1.4349, test loss: 1.4176, balanced_accuracy: 0.2452\n",
      "\n",
      "Training complete in 0m 24s\n",
      "Final balanced_accuracy: 0.245165\n",
      "\n",
      "Epoch 1/3\n",
      "----------\n"
     ]
    },
    {
     "name": "stderr",
     "output_type": "stream",
     "text": [
      "100%|██████████| 103/103 [01:12<00:00,  1.43it/s]\n",
      "100%|██████████| 29/29 [00:05<00:00,  5.20it/s]\n"
     ]
    },
    {
     "name": "stdout",
     "output_type": "stream",
     "text": [
      "Adjusting learning rate of group 0 to 1.0000e-05.\n",
      "train loss: 1.0746, test loss: 0.9440, balanced_accuracy: 0.5202\n",
      "\n",
      "Epoch 2/3\n",
      "----------\n"
     ]
    },
    {
     "name": "stderr",
     "output_type": "stream",
     "text": [
      "100%|██████████| 103/103 [01:12<00:00,  1.42it/s]\n",
      "100%|██████████| 29/29 [00:05<00:00,  5.18it/s]\n"
     ]
    },
    {
     "name": "stdout",
     "output_type": "stream",
     "text": [
      "Adjusting learning rate of group 0 to 1.0000e-05.\n",
      "train loss: 0.7261, test loss: 0.8301, balanced_accuracy: 0.6050\n",
      "\n",
      "Epoch 3/3\n",
      "----------\n"
     ]
    },
    {
     "name": "stderr",
     "output_type": "stream",
     "text": [
      "100%|██████████| 103/103 [01:12<00:00,  1.42it/s]\n",
      "100%|██████████| 29/29 [00:05<00:00,  5.11it/s]\n"
     ]
    },
    {
     "name": "stdout",
     "output_type": "stream",
     "text": [
      "Adjusting learning rate of group 0 to 1.0000e-06.\n",
      "train loss: 0.6548, test loss: 0.8001, balanced_accuracy: 0.6487\n",
      "\n",
      "Training complete in 3m 54s\n",
      "Final balanced_accuracy: 0.648667\n",
      "\n"
     ]
    },
    {
     "data": {
      "text/html": [
       "Waiting for W&B process to finish... <strong style=\"color:green\">(success).</strong>"
      ],
      "text/plain": [
       "<IPython.core.display.HTML object>"
      ]
     },
     "metadata": {},
     "output_type": "display_data"
    },
    {
     "name": "stderr",
     "output_type": "stream",
     "text": [
      "wandb: WARNING Source type is set to 'repo' but some required information is missing from the environment. A job will not be created from this run. See https://docs.wandb.ai/guides/launch/create-job\n"
     ]
    },
    {
     "data": {
      "text/html": [
       "<style>\n",
       "    table.wandb td:nth-child(1) { padding: 0 10px; text-align: left ; width: auto;} td:nth-child(2) {text-align: left ; width: 100%}\n",
       "    .wandb-row { display: flex; flex-direction: row; flex-wrap: wrap; justify-content: flex-start; width: 100% }\n",
       "    .wandb-col { display: flex; flex-direction: column; flex-basis: 100%; flex: 1; padding: 10px; }\n",
       "    </style>\n",
       "<div class=\"wandb-row\"><div class=\"wandb-col\"><h3>Run history:</h3><br/><table class=\"wandb\"><tr><td>balanced_accuracy</td><td>▁▆▇█</td></tr><tr><td>train_loss</td><td>█▅▂▁</td></tr><tr><td>valid_loss</td><td>█▃▁▁</td></tr></table><br/></div><div class=\"wandb-col\"><h3>Run summary:</h3><br/><table class=\"wandb\"><tr><td>balanced_accuracy</td><td>0.64867</td></tr><tr><td>train_loss</td><td>0.65485</td></tr><tr><td>valid_loss</td><td>0.80011</td></tr></table><br/></div></div>"
      ],
      "text/plain": [
       "<IPython.core.display.HTML object>"
      ]
     },
     "metadata": {},
     "output_type": "display_data"
    },
    {
     "data": {
      "text/html": [
       " View run <strong style=\"color:#cdcd00\">restful-butterfly-331</strong> at: <a href='https://wandb.ai/naraiadam88/kaggle-ubc-ocean/runs/6dk9pwoh' target=\"_blank\">https://wandb.ai/naraiadam88/kaggle-ubc-ocean/runs/6dk9pwoh</a><br/>Synced 6 W&B file(s), 0 media file(s), 0 artifact file(s) and 0 other file(s)"
      ],
      "text/plain": [
       "<IPython.core.display.HTML object>"
      ]
     },
     "metadata": {},
     "output_type": "display_data"
    },
    {
     "data": {
      "text/html": [
       "Find logs at: <code>./wandb/run-20231204_001105-6dk9pwoh/logs</code>"
      ],
      "text/plain": [
       "<IPython.core.display.HTML object>"
      ]
     },
     "metadata": {},
     "output_type": "display_data"
    }
   ],
   "source": [
    "# Model training\n",
    "model, balanced_acc = train_model(CFG, train_image_dir, df_train, df_validation, encode, wandb_log=True)\n",
    "torch.save(model.state_dict(), os.path.join(results_dir, 'models', f'ubc-ocean-{run.name}.pt'))\n",
    "wandb.finish()"
   ]
  },
  {
   "cell_type": "code",
   "execution_count": 5,
   "metadata": {
    "tags": []
   },
   "outputs": [],
   "source": [
    "# # Confusion matrix\n",
    "# import warnings\n",
    "# from sklearn.metrics import balanced_accuracy_score, confusion_matrix\n",
    "# loss_fn = nn.CrossEntropyLoss(reduction='none')\n",
    "# datasets = get_tiles_datasets(CFG, train_image_dir, df_train, df_validation)\n",
    "# dataloaders = get_dataloaders(CFG, datasets)\n",
    "# y_list = []\n",
    "# pred_list = []\n",
    "# loss_list = []\n",
    "# metric = 0\n",
    "# with torch.no_grad():\n",
    "#     for X, y in dataloaders['validation']:\n",
    "#         X, y = X.to(device), y.to(device)\n",
    "#         outputs = model(X)\n",
    "#         _, preds = torch.max(outputs, 1)\n",
    "#         loss = loss_fn(outputs, y)\n",
    "#         y_list.append(y.cpu().numpy())\n",
    "#         pred_list.append(preds.cpu().numpy())\n",
    "#         loss_list.append(loss.cpu().numpy())\n",
    "#         with warnings.catch_warnings():\n",
    "#             warnings.simplefilter('ignore', category=UserWarning)\n",
    "#             metric += balanced_accuracy_score(y.cpu().numpy(), preds.cpu().numpy())\n",
    "# metric /= len(dataloaders['validation'])\n",
    "# y_list = np.concatenate(y_list)\n",
    "# pred_list = np.concatenate(pred_list)\n",
    "# loss_list = np.concatenate(loss_list)\n",
    "\n",
    "# from ext.pretty_confusion_matrix import pp_matrix\n",
    "# cm = confusion_matrix(y_list, pred_list)\n",
    "# df_cm = pd.DataFrame(cm, index=encode.keys(), columns=encode.keys())\n",
    "# pp_matrix(df_cm, pred_val_axis='x', cmap='Oranges', figsize=(8, 8))"
   ]
  },
  {
   "cell_type": "code",
   "execution_count": 6,
   "metadata": {},
   "outputs": [],
   "source": [
    "# # Top k losses\n",
    "# k = 20\n",
    "# topk_loss_idx = list(loss_list.argsort()[-k:])\n",
    "# with torch.no_grad():\n",
    "#     for b, (X, y) in enumerate(dataloaders['validation']):\n",
    "#         for bi in range(len(X)):\n",
    "#             i = b * CFG['batch_size'] + bi\n",
    "#             if i not in topk_loss_idx:\n",
    "#                 continue\n",
    "#             plt.figure()\n",
    "#             plt.imshow(X[bi].permute(1, 2, 0))\n",
    "#             plt.title(f'loss: {loss_list[i]:.4f}, label: {decode[y_list[i]]}, pred: {decode[pred_list[i]]}')"
   ]
  }
 ],
 "metadata": {
  "kernelspec": {
   "display_name": "ubc-ocean",
   "language": "python",
   "name": "python3"
  },
  "language_info": {
   "codemirror_mode": {
    "name": "ipython",
    "version": 3
   },
   "file_extension": ".py",
   "mimetype": "text/x-python",
   "name": "python",
   "nbconvert_exporter": "python",
   "pygments_lexer": "ipython3",
   "version": "3.11.6"
  }
 },
 "nbformat": 4,
 "nbformat_minor": 2
}
